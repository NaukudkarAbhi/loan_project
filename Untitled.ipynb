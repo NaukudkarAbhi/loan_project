{
 "cells": [
  {
   "cell_type": "code",
   "execution_count": 6,
   "id": "cbc4d6cf",
   "metadata": {},
   "outputs": [
    {
     "data": {
      "text/plain": [
       "5"
      ]
     },
     "execution_count": 6,
     "metadata": {},
     "output_type": "execute_result"
    }
   ],
   "source": [
    "l = [2,4,5,6,3,2]\n",
    "k = set(l)\n",
    "l2 = list(k)\n",
    "l2.sort()\n",
    "l2[-2]"
   ]
  },
  {
   "cell_type": "code",
   "execution_count": 16,
   "id": "18b35c47",
   "metadata": {},
   "outputs": [
    {
     "name": "stdout",
     "output_type": "stream",
     "text": [
      "5\n"
     ]
    }
   ],
   "source": [
    "l = [2,4,5,6,3,2]\n",
    "l.remove(max(l))\n",
    "\n",
    "a=l[0]\n",
    "for i in l:\n",
    "    if i>a:\n",
    "        a=i\n",
    "print(a)     "
   ]
  },
  {
   "cell_type": "code",
   "execution_count": 18,
   "id": "0919ba47",
   "metadata": {},
   "outputs": [
    {
     "name": "stdout",
     "output_type": "stream",
     "text": [
      " teejihbA\n"
     ]
    }
   ],
   "source": [
    "a = \"Abhijeet\"\n",
    "b = \" \"\n",
    "for i in range(7,-1,-1):\n",
    "    b+=a[i]\n",
    "print(b)\n",
    "    "
   ]
  },
  {
   "cell_type": "code",
   "execution_count": 20,
   "id": "79429c75",
   "metadata": {},
   "outputs": [
    {
     "name": "stdout",
     "output_type": "stream",
     "text": [
      "teejihbA\n"
     ]
    }
   ],
   "source": [
    "a = \"Abhijeet\"\n",
    "l = [ ]\n",
    "for i in a:\n",
    "    l.insert(0,i)\n",
    "print(\"\".join(l))"
   ]
  },
  {
   "cell_type": "code",
   "execution_count": 23,
   "id": "09e9fb63",
   "metadata": {},
   "outputs": [
    {
     "data": {
      "text/plain": [
       "[2, 3]"
      ]
     },
     "execution_count": 23,
     "metadata": {},
     "output_type": "execute_result"
    }
   ],
   "source": [
    "L1 = [2,3,4,8,7,9,1]\n",
    "L2 = [ 3,2,11,17,15,12.2]\n",
    "L3 = []\n",
    "# for i in L1:\n",
    "#     if i in L2:\n",
    "#         L3.append(i)\n",
    "# print(L3)\n",
    "[i for i in L1 if i in L2]"
   ]
  },
  {
   "cell_type": "code",
   "execution_count": 24,
   "id": "ea7f0ee5",
   "metadata": {},
   "outputs": [
    {
     "name": "stdout",
     "output_type": "stream",
     "text": [
      "[2, 10, 15, 21, 30, 34, 37, 43]\n"
     ]
    }
   ],
   "source": [
    "l=[2,8,5,6,9,4,3,6]               #[2, 10, 15, 21, 30, 34, 37, 43]\n",
    "k = 0\n",
    "l2 = []\n",
    "for i in l:\n",
    "    k+=i\n",
    "    l2.append(k)\n",
    "print(l2)"
   ]
  },
  {
   "cell_type": "code",
   "execution_count": null,
   "id": "5552bfcc",
   "metadata": {},
   "outputs": [],
   "source": []
  }
 ],
 "metadata": {
  "kernelspec": {
   "display_name": "Python 3 (ipykernel)",
   "language": "python",
   "name": "python3"
  },
  "language_info": {
   "codemirror_mode": {
    "name": "ipython",
    "version": 3
   },
   "file_extension": ".py",
   "mimetype": "text/x-python",
   "name": "python",
   "nbconvert_exporter": "python",
   "pygments_lexer": "ipython3",
   "version": "3.9.12"
  }
 },
 "nbformat": 4,
 "nbformat_minor": 5
}

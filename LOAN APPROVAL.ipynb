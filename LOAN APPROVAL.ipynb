{
 "cells": [
  {
   "cell_type": "markdown",
   "id": "b633b8f6",
   "metadata": {},
   "source": [
    "# Problem Statement"
   ]
  },
  {
   "cell_type": "raw",
   "id": "0214dcc4",
   "metadata": {},
   "source": [
    "In finance, a loan is the lending of money by one or more individuals, organizations, or other entities to other individuals,\n",
    "organizations etc. The recipient (i.e., the borrower) incurs a debt and is usually liable to pay interest on that debt \n",
    "until it is repaid as well as to repay the principal amount borrowed. (wikipedia)\n",
    "\n",
    "The major aim of this notebook is to predict which of the customers will have their loan approved."
   ]
  },
  {
   "cell_type": "markdown",
   "id": "b80ee105",
   "metadata": {},
   "source": [
    "# Required Dependencies"
   ]
  },
  {
   "cell_type": "code",
   "execution_count": 1,
   "id": "53509f30",
   "metadata": {},
   "outputs": [],
   "source": [
    "import pandas as pd\n",
    "import numpy as np\n",
    "import seaborn as sns\n",
    "import matplotlib.pyplot as plt\n",
    "from sklearn.linear_model import LogisticRegression\n",
    "from sklearn.model_selection import train_test_split\n",
    "from sklearn.metrics import confusion_matrix,accuracy_score,classification_report\n",
    "import pickle\n",
    "from sklearn.impute import KNNImputer\n",
    "from imblearn.over_sampling import SMOTE"
   ]
  },
  {
   "cell_type": "markdown",
   "id": "563f421a",
   "metadata": {},
   "source": [
    "#  Data Gathering"
   ]
  },
  {
   "cell_type": "code",
   "execution_count": 2,
   "id": "dc27323b",
   "metadata": {},
   "outputs": [
    {
     "data": {
      "text/html": [
       "<div>\n",
       "<style scoped>\n",
       "    .dataframe tbody tr th:only-of-type {\n",
       "        vertical-align: middle;\n",
       "    }\n",
       "\n",
       "    .dataframe tbody tr th {\n",
       "        vertical-align: top;\n",
       "    }\n",
       "\n",
       "    .dataframe thead th {\n",
       "        text-align: right;\n",
       "    }\n",
       "</style>\n",
       "<table border=\"1\" class=\"dataframe\">\n",
       "  <thead>\n",
       "    <tr style=\"text-align: right;\">\n",
       "      <th></th>\n",
       "      <th>Loan_ID</th>\n",
       "      <th>Gender</th>\n",
       "      <th>Married</th>\n",
       "      <th>Dependents</th>\n",
       "      <th>Education</th>\n",
       "      <th>Self_Employed</th>\n",
       "      <th>ApplicantIncome</th>\n",
       "      <th>CoapplicantIncome</th>\n",
       "      <th>LoanAmount</th>\n",
       "      <th>Loan_Amount_Term</th>\n",
       "      <th>Credit_History</th>\n",
       "      <th>Property_Area</th>\n",
       "      <th>Loan_Status</th>\n",
       "    </tr>\n",
       "  </thead>\n",
       "  <tbody>\n",
       "    <tr>\n",
       "      <th>0</th>\n",
       "      <td>LP001002</td>\n",
       "      <td>Male</td>\n",
       "      <td>No</td>\n",
       "      <td>0</td>\n",
       "      <td>Graduate</td>\n",
       "      <td>No</td>\n",
       "      <td>5849</td>\n",
       "      <td>0.0</td>\n",
       "      <td>NaN</td>\n",
       "      <td>360.0</td>\n",
       "      <td>1.0</td>\n",
       "      <td>Urban</td>\n",
       "      <td>Y</td>\n",
       "    </tr>\n",
       "    <tr>\n",
       "      <th>1</th>\n",
       "      <td>LP001003</td>\n",
       "      <td>Male</td>\n",
       "      <td>Yes</td>\n",
       "      <td>1</td>\n",
       "      <td>Graduate</td>\n",
       "      <td>No</td>\n",
       "      <td>4583</td>\n",
       "      <td>1508.0</td>\n",
       "      <td>128.0</td>\n",
       "      <td>360.0</td>\n",
       "      <td>1.0</td>\n",
       "      <td>Rural</td>\n",
       "      <td>N</td>\n",
       "    </tr>\n",
       "    <tr>\n",
       "      <th>2</th>\n",
       "      <td>LP001005</td>\n",
       "      <td>Male</td>\n",
       "      <td>Yes</td>\n",
       "      <td>0</td>\n",
       "      <td>Graduate</td>\n",
       "      <td>Yes</td>\n",
       "      <td>3000</td>\n",
       "      <td>0.0</td>\n",
       "      <td>66.0</td>\n",
       "      <td>360.0</td>\n",
       "      <td>1.0</td>\n",
       "      <td>Urban</td>\n",
       "      <td>Y</td>\n",
       "    </tr>\n",
       "    <tr>\n",
       "      <th>3</th>\n",
       "      <td>LP001006</td>\n",
       "      <td>Male</td>\n",
       "      <td>Yes</td>\n",
       "      <td>0</td>\n",
       "      <td>Not Graduate</td>\n",
       "      <td>No</td>\n",
       "      <td>2583</td>\n",
       "      <td>2358.0</td>\n",
       "      <td>120.0</td>\n",
       "      <td>360.0</td>\n",
       "      <td>1.0</td>\n",
       "      <td>Urban</td>\n",
       "      <td>Y</td>\n",
       "    </tr>\n",
       "    <tr>\n",
       "      <th>4</th>\n",
       "      <td>LP001008</td>\n",
       "      <td>Male</td>\n",
       "      <td>No</td>\n",
       "      <td>0</td>\n",
       "      <td>Graduate</td>\n",
       "      <td>No</td>\n",
       "      <td>6000</td>\n",
       "      <td>0.0</td>\n",
       "      <td>141.0</td>\n",
       "      <td>360.0</td>\n",
       "      <td>1.0</td>\n",
       "      <td>Urban</td>\n",
       "      <td>Y</td>\n",
       "    </tr>\n",
       "    <tr>\n",
       "      <th>...</th>\n",
       "      <td>...</td>\n",
       "      <td>...</td>\n",
       "      <td>...</td>\n",
       "      <td>...</td>\n",
       "      <td>...</td>\n",
       "      <td>...</td>\n",
       "      <td>...</td>\n",
       "      <td>...</td>\n",
       "      <td>...</td>\n",
       "      <td>...</td>\n",
       "      <td>...</td>\n",
       "      <td>...</td>\n",
       "      <td>...</td>\n",
       "    </tr>\n",
       "    <tr>\n",
       "      <th>609</th>\n",
       "      <td>LP002978</td>\n",
       "      <td>Female</td>\n",
       "      <td>No</td>\n",
       "      <td>0</td>\n",
       "      <td>Graduate</td>\n",
       "      <td>No</td>\n",
       "      <td>2900</td>\n",
       "      <td>0.0</td>\n",
       "      <td>71.0</td>\n",
       "      <td>360.0</td>\n",
       "      <td>1.0</td>\n",
       "      <td>Rural</td>\n",
       "      <td>Y</td>\n",
       "    </tr>\n",
       "    <tr>\n",
       "      <th>610</th>\n",
       "      <td>LP002979</td>\n",
       "      <td>Male</td>\n",
       "      <td>Yes</td>\n",
       "      <td>3+</td>\n",
       "      <td>Graduate</td>\n",
       "      <td>No</td>\n",
       "      <td>4106</td>\n",
       "      <td>0.0</td>\n",
       "      <td>40.0</td>\n",
       "      <td>180.0</td>\n",
       "      <td>1.0</td>\n",
       "      <td>Rural</td>\n",
       "      <td>Y</td>\n",
       "    </tr>\n",
       "    <tr>\n",
       "      <th>611</th>\n",
       "      <td>LP002983</td>\n",
       "      <td>Male</td>\n",
       "      <td>Yes</td>\n",
       "      <td>1</td>\n",
       "      <td>Graduate</td>\n",
       "      <td>No</td>\n",
       "      <td>8072</td>\n",
       "      <td>240.0</td>\n",
       "      <td>253.0</td>\n",
       "      <td>360.0</td>\n",
       "      <td>1.0</td>\n",
       "      <td>Urban</td>\n",
       "      <td>Y</td>\n",
       "    </tr>\n",
       "    <tr>\n",
       "      <th>612</th>\n",
       "      <td>LP002984</td>\n",
       "      <td>Male</td>\n",
       "      <td>Yes</td>\n",
       "      <td>2</td>\n",
       "      <td>Graduate</td>\n",
       "      <td>No</td>\n",
       "      <td>7583</td>\n",
       "      <td>0.0</td>\n",
       "      <td>187.0</td>\n",
       "      <td>360.0</td>\n",
       "      <td>1.0</td>\n",
       "      <td>Urban</td>\n",
       "      <td>Y</td>\n",
       "    </tr>\n",
       "    <tr>\n",
       "      <th>613</th>\n",
       "      <td>LP002990</td>\n",
       "      <td>Female</td>\n",
       "      <td>No</td>\n",
       "      <td>0</td>\n",
       "      <td>Graduate</td>\n",
       "      <td>Yes</td>\n",
       "      <td>4583</td>\n",
       "      <td>0.0</td>\n",
       "      <td>133.0</td>\n",
       "      <td>360.0</td>\n",
       "      <td>0.0</td>\n",
       "      <td>Semiurban</td>\n",
       "      <td>N</td>\n",
       "    </tr>\n",
       "  </tbody>\n",
       "</table>\n",
       "<p>614 rows × 13 columns</p>\n",
       "</div>"
      ],
      "text/plain": [
       "      Loan_ID  Gender Married Dependents     Education Self_Employed  \\\n",
       "0    LP001002    Male      No          0      Graduate            No   \n",
       "1    LP001003    Male     Yes          1      Graduate            No   \n",
       "2    LP001005    Male     Yes          0      Graduate           Yes   \n",
       "3    LP001006    Male     Yes          0  Not Graduate            No   \n",
       "4    LP001008    Male      No          0      Graduate            No   \n",
       "..        ...     ...     ...        ...           ...           ...   \n",
       "609  LP002978  Female      No          0      Graduate            No   \n",
       "610  LP002979    Male     Yes         3+      Graduate            No   \n",
       "611  LP002983    Male     Yes          1      Graduate            No   \n",
       "612  LP002984    Male     Yes          2      Graduate            No   \n",
       "613  LP002990  Female      No          0      Graduate           Yes   \n",
       "\n",
       "     ApplicantIncome  CoapplicantIncome  LoanAmount  Loan_Amount_Term  \\\n",
       "0               5849                0.0         NaN             360.0   \n",
       "1               4583             1508.0       128.0             360.0   \n",
       "2               3000                0.0        66.0             360.0   \n",
       "3               2583             2358.0       120.0             360.0   \n",
       "4               6000                0.0       141.0             360.0   \n",
       "..               ...                ...         ...               ...   \n",
       "609             2900                0.0        71.0             360.0   \n",
       "610             4106                0.0        40.0             180.0   \n",
       "611             8072              240.0       253.0             360.0   \n",
       "612             7583                0.0       187.0             360.0   \n",
       "613             4583                0.0       133.0             360.0   \n",
       "\n",
       "     Credit_History Property_Area Loan_Status  \n",
       "0               1.0         Urban           Y  \n",
       "1               1.0         Rural           N  \n",
       "2               1.0         Urban           Y  \n",
       "3               1.0         Urban           Y  \n",
       "4               1.0         Urban           Y  \n",
       "..              ...           ...         ...  \n",
       "609             1.0         Rural           Y  \n",
       "610             1.0         Rural           Y  \n",
       "611             1.0         Urban           Y  \n",
       "612             1.0         Urban           Y  \n",
       "613             0.0     Semiurban           N  \n",
       "\n",
       "[614 rows x 13 columns]"
      ]
     },
     "execution_count": 2,
     "metadata": {},
     "output_type": "execute_result"
    }
   ],
   "source": [
    "df = pd.read_csv(\"LoanData.csv\")\n",
    "df"
   ]
  },
  {
   "cell_type": "markdown",
   "id": "9a124517",
   "metadata": {},
   "source": [
    "# EDA\n"
   ]
  },
  {
   "cell_type": "code",
   "execution_count": 3,
   "id": "0158b65a",
   "metadata": {},
   "outputs": [
    {
     "name": "stdout",
     "output_type": "stream",
     "text": [
      "<class 'pandas.core.frame.DataFrame'>\n",
      "RangeIndex: 614 entries, 0 to 613\n",
      "Data columns (total 13 columns):\n",
      " #   Column             Non-Null Count  Dtype  \n",
      "---  ------             --------------  -----  \n",
      " 0   Loan_ID            614 non-null    object \n",
      " 1   Gender             601 non-null    object \n",
      " 2   Married            611 non-null    object \n",
      " 3   Dependents         599 non-null    object \n",
      " 4   Education          614 non-null    object \n",
      " 5   Self_Employed      582 non-null    object \n",
      " 6   ApplicantIncome    614 non-null    int64  \n",
      " 7   CoapplicantIncome  614 non-null    float64\n",
      " 8   LoanAmount         592 non-null    float64\n",
      " 9   Loan_Amount_Term   600 non-null    float64\n",
      " 10  Credit_History     564 non-null    float64\n",
      " 11  Property_Area      614 non-null    object \n",
      " 12  Loan_Status        614 non-null    object \n",
      "dtypes: float64(4), int64(1), object(8)\n",
      "memory usage: 62.5+ KB\n"
     ]
    }
   ],
   "source": [
    "df.info()"
   ]
  },
  {
   "cell_type": "code",
   "execution_count": 4,
   "id": "53983ead",
   "metadata": {
    "scrolled": true
   },
   "outputs": [
    {
     "data": {
      "text/html": [
       "<div>\n",
       "<style scoped>\n",
       "    .dataframe tbody tr th:only-of-type {\n",
       "        vertical-align: middle;\n",
       "    }\n",
       "\n",
       "    .dataframe tbody tr th {\n",
       "        vertical-align: top;\n",
       "    }\n",
       "\n",
       "    .dataframe thead th {\n",
       "        text-align: right;\n",
       "    }\n",
       "</style>\n",
       "<table border=\"1\" class=\"dataframe\">\n",
       "  <thead>\n",
       "    <tr style=\"text-align: right;\">\n",
       "      <th></th>\n",
       "      <th>ApplicantIncome</th>\n",
       "      <th>CoapplicantIncome</th>\n",
       "      <th>LoanAmount</th>\n",
       "      <th>Loan_Amount_Term</th>\n",
       "      <th>Credit_History</th>\n",
       "    </tr>\n",
       "  </thead>\n",
       "  <tbody>\n",
       "    <tr>\n",
       "      <th>count</th>\n",
       "      <td>614.000000</td>\n",
       "      <td>614.000000</td>\n",
       "      <td>592.000000</td>\n",
       "      <td>600.00000</td>\n",
       "      <td>564.000000</td>\n",
       "    </tr>\n",
       "    <tr>\n",
       "      <th>mean</th>\n",
       "      <td>5403.459283</td>\n",
       "      <td>1621.245798</td>\n",
       "      <td>146.412162</td>\n",
       "      <td>342.00000</td>\n",
       "      <td>0.842199</td>\n",
       "    </tr>\n",
       "    <tr>\n",
       "      <th>std</th>\n",
       "      <td>6109.041673</td>\n",
       "      <td>2926.248369</td>\n",
       "      <td>85.587325</td>\n",
       "      <td>65.12041</td>\n",
       "      <td>0.364878</td>\n",
       "    </tr>\n",
       "    <tr>\n",
       "      <th>min</th>\n",
       "      <td>150.000000</td>\n",
       "      <td>0.000000</td>\n",
       "      <td>9.000000</td>\n",
       "      <td>12.00000</td>\n",
       "      <td>0.000000</td>\n",
       "    </tr>\n",
       "    <tr>\n",
       "      <th>25%</th>\n",
       "      <td>2877.500000</td>\n",
       "      <td>0.000000</td>\n",
       "      <td>100.000000</td>\n",
       "      <td>360.00000</td>\n",
       "      <td>1.000000</td>\n",
       "    </tr>\n",
       "    <tr>\n",
       "      <th>50%</th>\n",
       "      <td>3812.500000</td>\n",
       "      <td>1188.500000</td>\n",
       "      <td>128.000000</td>\n",
       "      <td>360.00000</td>\n",
       "      <td>1.000000</td>\n",
       "    </tr>\n",
       "    <tr>\n",
       "      <th>75%</th>\n",
       "      <td>5795.000000</td>\n",
       "      <td>2297.250000</td>\n",
       "      <td>168.000000</td>\n",
       "      <td>360.00000</td>\n",
       "      <td>1.000000</td>\n",
       "    </tr>\n",
       "    <tr>\n",
       "      <th>max</th>\n",
       "      <td>81000.000000</td>\n",
       "      <td>41667.000000</td>\n",
       "      <td>700.000000</td>\n",
       "      <td>480.00000</td>\n",
       "      <td>1.000000</td>\n",
       "    </tr>\n",
       "  </tbody>\n",
       "</table>\n",
       "</div>"
      ],
      "text/plain": [
       "       ApplicantIncome  CoapplicantIncome  LoanAmount  Loan_Amount_Term  \\\n",
       "count       614.000000         614.000000  592.000000         600.00000   \n",
       "mean       5403.459283        1621.245798  146.412162         342.00000   \n",
       "std        6109.041673        2926.248369   85.587325          65.12041   \n",
       "min         150.000000           0.000000    9.000000          12.00000   \n",
       "25%        2877.500000           0.000000  100.000000         360.00000   \n",
       "50%        3812.500000        1188.500000  128.000000         360.00000   \n",
       "75%        5795.000000        2297.250000  168.000000         360.00000   \n",
       "max       81000.000000       41667.000000  700.000000         480.00000   \n",
       "\n",
       "       Credit_History  \n",
       "count      564.000000  \n",
       "mean         0.842199  \n",
       "std          0.364878  \n",
       "min          0.000000  \n",
       "25%          1.000000  \n",
       "50%          1.000000  \n",
       "75%          1.000000  \n",
       "max          1.000000  "
      ]
     },
     "execution_count": 4,
     "metadata": {},
     "output_type": "execute_result"
    }
   ],
   "source": [
    "df.describe()"
   ]
  },
  {
   "cell_type": "code",
   "execution_count": 5,
   "id": "7bcf7fc6",
   "metadata": {},
   "outputs": [
    {
     "data": {
      "text/html": [
       "<div>\n",
       "<style scoped>\n",
       "    .dataframe tbody tr th:only-of-type {\n",
       "        vertical-align: middle;\n",
       "    }\n",
       "\n",
       "    .dataframe tbody tr th {\n",
       "        vertical-align: top;\n",
       "    }\n",
       "\n",
       "    .dataframe thead th {\n",
       "        text-align: right;\n",
       "    }\n",
       "</style>\n",
       "<table border=\"1\" class=\"dataframe\">\n",
       "  <thead>\n",
       "    <tr style=\"text-align: right;\">\n",
       "      <th></th>\n",
       "      <th>Loan_ID</th>\n",
       "      <th>Gender</th>\n",
       "      <th>Married</th>\n",
       "      <th>Dependents</th>\n",
       "      <th>Education</th>\n",
       "      <th>Self_Employed</th>\n",
       "      <th>ApplicantIncome</th>\n",
       "      <th>CoapplicantIncome</th>\n",
       "      <th>LoanAmount</th>\n",
       "      <th>Loan_Amount_Term</th>\n",
       "      <th>Credit_History</th>\n",
       "      <th>Property_Area</th>\n",
       "      <th>Loan_Status</th>\n",
       "    </tr>\n",
       "  </thead>\n",
       "  <tbody>\n",
       "    <tr>\n",
       "      <th>0</th>\n",
       "      <td>False</td>\n",
       "      <td>False</td>\n",
       "      <td>False</td>\n",
       "      <td>False</td>\n",
       "      <td>False</td>\n",
       "      <td>False</td>\n",
       "      <td>False</td>\n",
       "      <td>False</td>\n",
       "      <td>True</td>\n",
       "      <td>False</td>\n",
       "      <td>False</td>\n",
       "      <td>False</td>\n",
       "      <td>False</td>\n",
       "    </tr>\n",
       "    <tr>\n",
       "      <th>1</th>\n",
       "      <td>False</td>\n",
       "      <td>False</td>\n",
       "      <td>False</td>\n",
       "      <td>False</td>\n",
       "      <td>False</td>\n",
       "      <td>False</td>\n",
       "      <td>False</td>\n",
       "      <td>False</td>\n",
       "      <td>False</td>\n",
       "      <td>False</td>\n",
       "      <td>False</td>\n",
       "      <td>False</td>\n",
       "      <td>False</td>\n",
       "    </tr>\n",
       "    <tr>\n",
       "      <th>2</th>\n",
       "      <td>False</td>\n",
       "      <td>False</td>\n",
       "      <td>False</td>\n",
       "      <td>False</td>\n",
       "      <td>False</td>\n",
       "      <td>False</td>\n",
       "      <td>False</td>\n",
       "      <td>False</td>\n",
       "      <td>False</td>\n",
       "      <td>False</td>\n",
       "      <td>False</td>\n",
       "      <td>False</td>\n",
       "      <td>False</td>\n",
       "    </tr>\n",
       "    <tr>\n",
       "      <th>3</th>\n",
       "      <td>False</td>\n",
       "      <td>False</td>\n",
       "      <td>False</td>\n",
       "      <td>False</td>\n",
       "      <td>False</td>\n",
       "      <td>False</td>\n",
       "      <td>False</td>\n",
       "      <td>False</td>\n",
       "      <td>False</td>\n",
       "      <td>False</td>\n",
       "      <td>False</td>\n",
       "      <td>False</td>\n",
       "      <td>False</td>\n",
       "    </tr>\n",
       "    <tr>\n",
       "      <th>4</th>\n",
       "      <td>False</td>\n",
       "      <td>False</td>\n",
       "      <td>False</td>\n",
       "      <td>False</td>\n",
       "      <td>False</td>\n",
       "      <td>False</td>\n",
       "      <td>False</td>\n",
       "      <td>False</td>\n",
       "      <td>False</td>\n",
       "      <td>False</td>\n",
       "      <td>False</td>\n",
       "      <td>False</td>\n",
       "      <td>False</td>\n",
       "    </tr>\n",
       "    <tr>\n",
       "      <th>...</th>\n",
       "      <td>...</td>\n",
       "      <td>...</td>\n",
       "      <td>...</td>\n",
       "      <td>...</td>\n",
       "      <td>...</td>\n",
       "      <td>...</td>\n",
       "      <td>...</td>\n",
       "      <td>...</td>\n",
       "      <td>...</td>\n",
       "      <td>...</td>\n",
       "      <td>...</td>\n",
       "      <td>...</td>\n",
       "      <td>...</td>\n",
       "    </tr>\n",
       "    <tr>\n",
       "      <th>609</th>\n",
       "      <td>False</td>\n",
       "      <td>False</td>\n",
       "      <td>False</td>\n",
       "      <td>False</td>\n",
       "      <td>False</td>\n",
       "      <td>False</td>\n",
       "      <td>False</td>\n",
       "      <td>False</td>\n",
       "      <td>False</td>\n",
       "      <td>False</td>\n",
       "      <td>False</td>\n",
       "      <td>False</td>\n",
       "      <td>False</td>\n",
       "    </tr>\n",
       "    <tr>\n",
       "      <th>610</th>\n",
       "      <td>False</td>\n",
       "      <td>False</td>\n",
       "      <td>False</td>\n",
       "      <td>False</td>\n",
       "      <td>False</td>\n",
       "      <td>False</td>\n",
       "      <td>False</td>\n",
       "      <td>False</td>\n",
       "      <td>False</td>\n",
       "      <td>False</td>\n",
       "      <td>False</td>\n",
       "      <td>False</td>\n",
       "      <td>False</td>\n",
       "    </tr>\n",
       "    <tr>\n",
       "      <th>611</th>\n",
       "      <td>False</td>\n",
       "      <td>False</td>\n",
       "      <td>False</td>\n",
       "      <td>False</td>\n",
       "      <td>False</td>\n",
       "      <td>False</td>\n",
       "      <td>False</td>\n",
       "      <td>False</td>\n",
       "      <td>False</td>\n",
       "      <td>False</td>\n",
       "      <td>False</td>\n",
       "      <td>False</td>\n",
       "      <td>False</td>\n",
       "    </tr>\n",
       "    <tr>\n",
       "      <th>612</th>\n",
       "      <td>False</td>\n",
       "      <td>False</td>\n",
       "      <td>False</td>\n",
       "      <td>False</td>\n",
       "      <td>False</td>\n",
       "      <td>False</td>\n",
       "      <td>False</td>\n",
       "      <td>False</td>\n",
       "      <td>False</td>\n",
       "      <td>False</td>\n",
       "      <td>False</td>\n",
       "      <td>False</td>\n",
       "      <td>False</td>\n",
       "    </tr>\n",
       "    <tr>\n",
       "      <th>613</th>\n",
       "      <td>False</td>\n",
       "      <td>False</td>\n",
       "      <td>False</td>\n",
       "      <td>False</td>\n",
       "      <td>False</td>\n",
       "      <td>False</td>\n",
       "      <td>False</td>\n",
       "      <td>False</td>\n",
       "      <td>False</td>\n",
       "      <td>False</td>\n",
       "      <td>False</td>\n",
       "      <td>False</td>\n",
       "      <td>False</td>\n",
       "    </tr>\n",
       "  </tbody>\n",
       "</table>\n",
       "<p>614 rows × 13 columns</p>\n",
       "</div>"
      ],
      "text/plain": [
       "     Loan_ID  Gender  Married  Dependents  Education  Self_Employed  \\\n",
       "0      False   False    False       False      False          False   \n",
       "1      False   False    False       False      False          False   \n",
       "2      False   False    False       False      False          False   \n",
       "3      False   False    False       False      False          False   \n",
       "4      False   False    False       False      False          False   \n",
       "..       ...     ...      ...         ...        ...            ...   \n",
       "609    False   False    False       False      False          False   \n",
       "610    False   False    False       False      False          False   \n",
       "611    False   False    False       False      False          False   \n",
       "612    False   False    False       False      False          False   \n",
       "613    False   False    False       False      False          False   \n",
       "\n",
       "     ApplicantIncome  CoapplicantIncome  LoanAmount  Loan_Amount_Term  \\\n",
       "0              False              False        True             False   \n",
       "1              False              False       False             False   \n",
       "2              False              False       False             False   \n",
       "3              False              False       False             False   \n",
       "4              False              False       False             False   \n",
       "..               ...                ...         ...               ...   \n",
       "609            False              False       False             False   \n",
       "610            False              False       False             False   \n",
       "611            False              False       False             False   \n",
       "612            False              False       False             False   \n",
       "613            False              False       False             False   \n",
       "\n",
       "     Credit_History  Property_Area  Loan_Status  \n",
       "0             False          False        False  \n",
       "1             False          False        False  \n",
       "2             False          False        False  \n",
       "3             False          False        False  \n",
       "4             False          False        False  \n",
       "..              ...            ...          ...  \n",
       "609           False          False        False  \n",
       "610           False          False        False  \n",
       "611           False          False        False  \n",
       "612           False          False        False  \n",
       "613           False          False        False  \n",
       "\n",
       "[614 rows x 13 columns]"
      ]
     },
     "execution_count": 5,
     "metadata": {},
     "output_type": "execute_result"
    }
   ],
   "source": [
    "df.isna()"
   ]
  },
  {
   "cell_type": "code",
   "execution_count": 6,
   "id": "7b006392",
   "metadata": {},
   "outputs": [
    {
     "data": {
      "text/plain": [
       "Loan_ID               0\n",
       "Gender               13\n",
       "Married               3\n",
       "Dependents           15\n",
       "Education             0\n",
       "Self_Employed        32\n",
       "ApplicantIncome       0\n",
       "CoapplicantIncome     0\n",
       "LoanAmount           22\n",
       "Loan_Amount_Term     14\n",
       "Credit_History       50\n",
       "Property_Area         0\n",
       "Loan_Status           0\n",
       "dtype: int64"
      ]
     },
     "execution_count": 6,
     "metadata": {},
     "output_type": "execute_result"
    }
   ],
   "source": [
    "df.isna().sum()"
   ]
  },
  {
   "cell_type": "raw",
   "id": "f84adf7e",
   "metadata": {},
   "source": [
    "Univarient Analysis"
   ]
  },
  {
   "cell_type": "code",
   "execution_count": 7,
   "id": "9047b264",
   "metadata": {},
   "outputs": [
    {
     "data": {
      "text/plain": [
       "Male      489\n",
       "Female    112\n",
       "Name: Gender, dtype: int64"
      ]
     },
     "execution_count": 7,
     "metadata": {},
     "output_type": "execute_result"
    }
   ],
   "source": [
    "df['Gender'].value_counts()"
   ]
  },
  {
   "cell_type": "code",
   "execution_count": 8,
   "id": "17fa4ed3",
   "metadata": {},
   "outputs": [
    {
     "data": {
      "text/plain": [
       "Yes    398\n",
       "No     213\n",
       "Name: Married, dtype: int64"
      ]
     },
     "execution_count": 8,
     "metadata": {},
     "output_type": "execute_result"
    }
   ],
   "source": [
    "df['Married'].value_counts()"
   ]
  },
  {
   "cell_type": "code",
   "execution_count": 9,
   "id": "de8399ea",
   "metadata": {},
   "outputs": [
    {
     "data": {
      "text/plain": [
       "0     345\n",
       "1     102\n",
       "2     101\n",
       "3+     51\n",
       "Name: Dependents, dtype: int64"
      ]
     },
     "execution_count": 9,
     "metadata": {},
     "output_type": "execute_result"
    }
   ],
   "source": [
    "df['Dependents'].value_counts()"
   ]
  },
  {
   "cell_type": "code",
   "execution_count": 10,
   "id": "f0bc5a36",
   "metadata": {},
   "outputs": [
    {
     "data": {
      "text/plain": [
       "Graduate        480\n",
       "Not Graduate    134\n",
       "Name: Education, dtype: int64"
      ]
     },
     "execution_count": 10,
     "metadata": {},
     "output_type": "execute_result"
    }
   ],
   "source": [
    "df['Education'].value_counts()"
   ]
  },
  {
   "cell_type": "code",
   "execution_count": 11,
   "id": "aa49e232",
   "metadata": {},
   "outputs": [
    {
     "data": {
      "text/plain": [
       "No     500\n",
       "Yes     82\n",
       "Name: Self_Employed, dtype: int64"
      ]
     },
     "execution_count": 11,
     "metadata": {},
     "output_type": "execute_result"
    }
   ],
   "source": [
    "df['Self_Employed'].value_counts()"
   ]
  },
  {
   "cell_type": "code",
   "execution_count": 12,
   "id": "2db40c89",
   "metadata": {},
   "outputs": [
    {
     "data": {
      "text/plain": [
       "<AxesSubplot:xlabel='ApplicantIncome', ylabel='Count'>"
      ]
     },
     "execution_count": 12,
     "metadata": {},
     "output_type": "execute_result"
    },
    {
     "data": {
      "image/png": "[encoded data removed]",
      "text/plain": [
       "<Figure size 432x288 with 1 Axes>"
      ]
     },
     "metadata": {
      "needs_background": "light"
     },
     "output_type": "display_data"
    }
   ],
   "source": [
    "sns.histplot(df['ApplicantIncome'])  #Checked distribution of data"
   ]
  },
  {
   "cell_type": "code",
   "execution_count": 13,
   "id": "716cbaa1",
   "metadata": {},
   "outputs": [
    {
     "name": "stderr",
     "output_type": "stream",
     "text": [
      "C:\\Users\\DELL\\Anaconda3\\desktop\\lib\\site-packages\\seaborn\\_decorators.py:36: FutureWarning: Pass the following variable as a keyword arg: x. From version 0.12, the only valid positional argument will be `data`, and passing other arguments without an explicit keyword will result in an error or misinterpretation.\n",
      "  warnings.warn(\n"
     ]
    },
    {
     "data": {
      "text/plain": [
       "<AxesSubplot:xlabel='ApplicantIncome'>"
      ]
     },
     "execution_count": 13,
     "metadata": {},
     "output_type": "execute_result"
    },
    {
     "data": {
      "image/png": "[encoded data removed]",
      "text/plain": [
       "<Figure size 432x288 with 1 Axes>"
      ]
     },
     "metadata": {
      "needs_background": "light"
     },
     "output_type": "display_data"
    }
   ],
   "source": [
    "sns.boxplot(df['ApplicantIncome'])   #Checked Outliers"
   ]
  },
  {
   "cell_type": "code",
   "execution_count": 14,
   "id": "2156e156",
   "metadata": {},
   "outputs": [
    {
     "name": "stderr",
     "output_type": "stream",
     "text": [
      "C:\\Users\\DELL\\Anaconda3\\desktop\\lib\\site-packages\\seaborn\\_decorators.py:36: FutureWarning: Pass the following variable as a keyword arg: x. From version 0.12, the only valid positional argument will be `data`, and passing other arguments without an explicit keyword will result in an error or misinterpretation.\n",
      "  warnings.warn(\n"
     ]
    },
    {
     "data": {
      "text/plain": [
       "<AxesSubplot:xlabel='ApplicantIncome'>"
      ]
     },
     "execution_count": 14,
     "metadata": {},
     "output_type": "execute_result"
    },
    {
     "data": {
      "image/png": "[encoded data removed]",
      "text/plain": [
       "<Figure size 432x288 with 1 Axes>"
      ]
     },
     "metadata": {
      "needs_background": "light"
     },
     "output_type": "display_data"
    }
   ],
   "source": [
    "sns.scatterplot(df['ApplicantIncome'])   #Check Varience"
   ]
  },
  {
   "cell_type": "code",
   "execution_count": 15,
   "id": "98e65539",
   "metadata": {},
   "outputs": [
    {
     "data": {
      "text/plain": [
       "<AxesSubplot:xlabel='CoapplicantIncome', ylabel='Count'>"
      ]
     },
     "execution_count": 15,
     "metadata": {},
     "output_type": "execute_result"
    },
    {
     "data": {
      "image/png": "[encoded data removed]",
      "text/plain": [
       "<Figure size 432x288 with 1 Axes>"
      ]
     },
     "metadata": {
      "needs_background": "light"
     },
     "output_type": "display_data"
    }
   ],
   "source": [
    "sns.histplot(df['CoapplicantIncome'])"
   ]
  },
  {
   "cell_type": "code",
   "execution_count": 16,
   "id": "78feee55",
   "metadata": {},
   "outputs": [
    {
     "name": "stderr",
     "output_type": "stream",
     "text": [
      "C:\\Users\\DELL\\Anaconda3\\desktop\\lib\\site-packages\\seaborn\\_decorators.py:36: FutureWarning: Pass the following variable as a keyword arg: x. From version 0.12, the only valid positional argument will be `data`, and passing other arguments without an explicit keyword will result in an error or misinterpretation.\n",
      "  warnings.warn(\n"
     ]
    },
    {
     "data": {
      "text/plain": [
       "<AxesSubplot:xlabel='CoapplicantIncome'>"
      ]
     },
     "execution_count": 16,
     "metadata": {},
     "output_type": "execute_result"
    },
    {
     "data": {
      "image/png": "[encoded data removed]",
      "text/plain": [
       "<Figure size 432x288 with 1 Axes>"
      ]
     },
     "metadata": {
      "needs_background": "light"
     },
     "output_type": "display_data"
    }
   ],
   "source": [
    "sns.boxplot(df['CoapplicantIncome']) "
   ]
  },
  {
   "cell_type": "code",
   "execution_count": 17,
   "id": "85e91d85",
   "metadata": {},
   "outputs": [
    {
     "data": {
      "text/plain": [
       "<AxesSubplot:xlabel='LoanAmount', ylabel='Count'>"
      ]
     },
     "execution_count": 17,
     "metadata": {},
     "output_type": "execute_result"
    },
    {
     "data": {
      "image/png": "[encoded data removed]",
      "text/plain": [
       "<Figure size 432x288 with 1 Axes>"
      ]
     },
     "metadata": {
      "needs_background": "light"
     },
     "output_type": "display_data"
    }
   ],
   "source": [
    "sns.histplot(df['LoanAmount'])"
   ]
  },
  {
   "cell_type": "code",
   "execution_count": 18,
   "id": "6b12fdfe",
   "metadata": {},
   "outputs": [
    {
     "name": "stderr",
     "output_type": "stream",
     "text": [
      "C:\\Users\\DELL\\Anaconda3\\desktop\\lib\\site-packages\\seaborn\\_decorators.py:36: FutureWarning: Pass the following variable as a keyword arg: x. From version 0.12, the only valid positional argument will be `data`, and passing other arguments without an explicit keyword will result in an error or misinterpretation.\n",
      "  warnings.warn(\n"
     ]
    },
    {
     "data": {
      "text/plain": [
       "<AxesSubplot:xlabel='LoanAmount'>"
      ]
     },
     "execution_count": 18,
     "metadata": {},
     "output_type": "execute_result"
    },
    {
     "data": {
      "image/png": "[encoded data removed]",
      "text/plain": [
       "<Figure size 432x288 with 1 Axes>"
      ]
     },
     "metadata": {
      "needs_background": "light"
     },
     "output_type": "display_data"
    }
   ],
   "source": [
    "sns.boxplot(df['LoanAmount']) "
   ]
  },
  {
   "cell_type": "code",
   "execution_count": 19,
   "id": "38721c92",
   "metadata": {},
   "outputs": [
    {
     "data": {
      "text/plain": [
       "<AxesSubplot:xlabel='Loan_Amount_Term', ylabel='Count'>"
      ]
     },
     "execution_count": 19,
     "metadata": {},
     "output_type": "execute_result"
    },
    {
     "data": {
      "image/png": "[encoded data removed]",
      "text/plain": [
       "<Figure size 432x288 with 1 Axes>"
      ]
     },
     "metadata": {
      "needs_background": "light"
     },
     "output_type": "display_data"
    }
   ],
   "source": [
    "sns.histplot(df['Loan_Amount_Term'])"
   ]
  },
  {
   "cell_type": "code",
   "execution_count": 20,
   "id": "937c929e",
   "metadata": {},
   "outputs": [
    {
     "name": "stderr",
     "output_type": "stream",
     "text": [
      "C:\\Users\\DELL\\Anaconda3\\desktop\\lib\\site-packages\\seaborn\\_decorators.py:36: FutureWarning: Pass the following variable as a keyword arg: x. From version 0.12, the only valid positional argument will be `data`, and passing other arguments without an explicit keyword will result in an error or misinterpretation.\n",
      "  warnings.warn(\n"
     ]
    },
    {
     "data": {
      "text/plain": [
       "<AxesSubplot:xlabel='Loan_Amount_Term'>"
      ]
     },
     "execution_count": 20,
     "metadata": {},
     "output_type": "execute_result"
    },
    {
     "data": {
      "image/png": "[encoded data removed]",
      "text/plain": [
       "<Figure size 432x288 with 1 Axes>"
      ]
     },
     "metadata": {
      "needs_background": "light"
     },
     "output_type": "display_data"
    }
   ],
   "source": [
    "sns.boxplot(df['Loan_Amount_Term']) "
   ]
  },
  {
   "cell_type": "code",
   "execution_count": 21,
   "id": "ba07dc1e",
   "metadata": {},
   "outputs": [
    {
     "data": {
      "text/plain": [
       "1.0    475\n",
       "0.0     89\n",
       "Name: Credit_History, dtype: int64"
      ]
     },
     "execution_count": 21,
     "metadata": {},
     "output_type": "execute_result"
    }
   ],
   "source": [
    "df['Credit_History'].value_counts()"
   ]
  },
  {
   "cell_type": "code",
   "execution_count": 22,
   "id": "484ebbcc",
   "metadata": {},
   "outputs": [
    {
     "data": {
      "text/plain": [
       "<AxesSubplot:xlabel='Credit_History', ylabel='Count'>"
      ]
     },
     "execution_count": 22,
     "metadata": {},
     "output_type": "execute_result"
    },
    {
     "data": {
      "image/png": "[encoded data removed]",
      "text/plain": [
       "<Figure size 432x288 with 1 Axes>"
      ]
     },
     "metadata": {
      "needs_background": "light"
     },
     "output_type": "display_data"
    }
   ],
   "source": [
    "sns.histplot(df['Credit_History'])"
   ]
  },
  {
   "cell_type": "code",
   "execution_count": 23,
   "id": "cdf5245f",
   "metadata": {},
   "outputs": [
    {
     "name": "stderr",
     "output_type": "stream",
     "text": [
      "C:\\Users\\DELL\\Anaconda3\\desktop\\lib\\site-packages\\seaborn\\_decorators.py:36: FutureWarning: Pass the following variable as a keyword arg: x. From version 0.12, the only valid positional argument will be `data`, and passing other arguments without an explicit keyword will result in an error or misinterpretation.\n",
      "  warnings.warn(\n"
     ]
    },
    {
     "data": {
      "text/plain": [
       "<AxesSubplot:xlabel='Credit_History'>"
      ]
     },
     "execution_count": 23,
     "metadata": {},
     "output_type": "execute_result"
    },
    {
     "data": {
      "image/png": "[encoded data removed]",
      "text/plain": [
       "<Figure size 432x288 with 1 Axes>"
      ]
     },
     "metadata": {
      "needs_background": "light"
     },
     "output_type": "display_data"
    }
   ],
   "source": [
    "sns.boxplot(df['Credit_History']) "
   ]
  },
  {
   "cell_type": "code",
   "execution_count": 24,
   "id": "d565caac",
   "metadata": {},
   "outputs": [
    {
     "data": {
      "text/plain": [
       "<AxesSubplot:xlabel='Property_Area', ylabel='Count'>"
      ]
     },
     "execution_count": 24,
     "metadata": {},
     "output_type": "execute_result"
    },
    {
     "data": {
      "image/png": "[encoded data removed]",
      "text/plain": [
       "<Figure size 432x288 with 1 Axes>"
      ]
     },
     "metadata": {
      "needs_background": "light"
     },
     "output_type": "display_data"
    }
   ],
   "source": [
    "sns.histplot(df['Property_Area'])"
   ]
  },
  {
   "cell_type": "raw",
   "id": "eab6a2b0",
   "metadata": {},
   "source": [
    "Bi-Varient Analysis:- "
   ]
  },
  {
   "cell_type": "code",
   "execution_count": 25,
   "id": "0f6c46f9",
   "metadata": {},
   "outputs": [
    {
     "data": {
      "text/html": [
       "<div>\n",
       "<style scoped>\n",
       "    .dataframe tbody tr th:only-of-type {\n",
       "        vertical-align: middle;\n",
       "    }\n",
       "\n",
       "    .dataframe tbody tr th {\n",
       "        vertical-align: top;\n",
       "    }\n",
       "\n",
       "    .dataframe thead th {\n",
       "        text-align: right;\n",
       "    }\n",
       "</style>\n",
       "<table border=\"1\" class=\"dataframe\">\n",
       "  <thead>\n",
       "    <tr style=\"text-align: right;\">\n",
       "      <th>Loan_Status</th>\n",
       "      <th>N</th>\n",
       "      <th>Y</th>\n",
       "    </tr>\n",
       "    <tr>\n",
       "      <th>Gender</th>\n",
       "      <th></th>\n",
       "      <th></th>\n",
       "    </tr>\n",
       "  </thead>\n",
       "  <tbody>\n",
       "    <tr>\n",
       "      <th>Female</th>\n",
       "      <td>37</td>\n",
       "      <td>75</td>\n",
       "    </tr>\n",
       "    <tr>\n",
       "      <th>Male</th>\n",
       "      <td>150</td>\n",
       "      <td>339</td>\n",
       "    </tr>\n",
       "  </tbody>\n",
       "</table>\n",
       "</div>"
      ],
      "text/plain": [
       "Loan_Status    N    Y\n",
       "Gender               \n",
       "Female        37   75\n",
       "Male         150  339"
      ]
     },
     "execution_count": 25,
     "metadata": {},
     "output_type": "execute_result"
    }
   ],
   "source": [
    "cross_tab=pd.crosstab(df[\"Gender\"], df[\"Loan_Status\"])\n",
    "cross_tab"
   ]
  },
  {
   "cell_type": "code",
   "execution_count": 26,
   "id": "585638f5",
   "metadata": {},
   "outputs": [
    {
     "data": {
      "text/html": [
       "<div>\n",
       "<style scoped>\n",
       "    .dataframe tbody tr th:only-of-type {\n",
       "        vertical-align: middle;\n",
       "    }\n",
       "\n",
       "    .dataframe tbody tr th {\n",
       "        vertical-align: top;\n",
       "    }\n",
       "\n",
       "    .dataframe thead th {\n",
       "        text-align: right;\n",
       "    }\n",
       "</style>\n",
       "<table border=\"1\" class=\"dataframe\">\n",
       "  <thead>\n",
       "    <tr style=\"text-align: right;\">\n",
       "      <th>Loan_Status</th>\n",
       "      <th>N</th>\n",
       "      <th>Y</th>\n",
       "    </tr>\n",
       "    <tr>\n",
       "      <th>Credit_History</th>\n",
       "      <th></th>\n",
       "      <th></th>\n",
       "    </tr>\n",
       "  </thead>\n",
       "  <tbody>\n",
       "    <tr>\n",
       "      <th>0.0</th>\n",
       "      <td>82</td>\n",
       "      <td>7</td>\n",
       "    </tr>\n",
       "    <tr>\n",
       "      <th>1.0</th>\n",
       "      <td>97</td>\n",
       "      <td>378</td>\n",
       "    </tr>\n",
       "  </tbody>\n",
       "</table>\n",
       "</div>"
      ],
      "text/plain": [
       "Loan_Status      N    Y\n",
       "Credit_History         \n",
       "0.0             82    7\n",
       "1.0             97  378"
      ]
     },
     "execution_count": 26,
     "metadata": {},
     "output_type": "execute_result"
    }
   ],
   "source": [
    "cross_tab=pd.crosstab(df[\"Credit_History\"], df[\"Loan_Status\"])\n",
    "cross_tab"
   ]
  },
  {
   "cell_type": "code",
   "execution_count": 27,
   "id": "38b4fa0d",
   "metadata": {},
   "outputs": [
    {
     "data": {
      "text/plain": [
       "<AxesSubplot:xlabel='ApplicantIncome', ylabel='count'>"
      ]
     },
     "execution_count": 27,
     "metadata": {},
     "output_type": "execute_result"
    },
    {
     "data": {
      "image/png": "[encoded data removed]",
      "text/plain": [
       "<Figure size 432x288 with 1 Axes>"
      ]
     },
     "metadata": {
      "needs_background": "light"
     },
     "output_type": "display_data"
    }
   ],
   "source": [
    "sns.countplot(x=df[\"ApplicantIncome\"], hue=df[\"Loan_Status\"])"
   ]
  },
  {
   "cell_type": "markdown",
   "id": "f8f6763b",
   "metadata": {},
   "source": [
    "# Data Preprocessing"
   ]
  },
  {
   "cell_type": "raw",
   "id": "ff407b93",
   "metadata": {},
   "source": [
    "1.Missing Value Handling:-"
   ]
  },
  {
   "cell_type": "code",
   "execution_count": 28,
   "id": "3d0ae4e1",
   "metadata": {},
   "outputs": [],
   "source": [
    "# Catagerical Feature\n",
    "df[\"Gender\"].fillna(df[\"Gender\"].mode()[0],inplace=True)\n",
    "df[\"Married\"].fillna(df[\"Married\"].mode()[0],inplace=True)\n",
    "df[\"Dependents\"].fillna(df[\"Dependents\"].mode()[0],inplace=True)\n",
    "df[\"Self_Employed\"].fillna(df[\"Self_Employed\"].mode()[0],inplace=True)\n",
    "df[\"Credit_History\"].fillna(df[\"Credit_History\"].mode()[0],inplace=True)"
   ]
  },
  {
   "cell_type": "code",
   "execution_count": 29,
   "id": "163e42ee",
   "metadata": {},
   "outputs": [],
   "source": [
    "# Continues Feature\n",
    "knn_ip=KNNImputer(n_neighbors=2)\n",
    "df[\"LoanAmount\"]=knn_ip.fit_transform(df[[\"LoanAmount\"]])\n",
    "df[\"Loan_Amount_Term\"]=knn_ip.fit_transform(df[[\"Loan_Amount_Term\"]])"
   ]
  },
  {
   "cell_type": "raw",
   "id": "3b153d2b",
   "metadata": {},
   "source": [
    "2.Outliers Handling:-"
   ]
  },
  {
   "cell_type": "code",
   "execution_count": 30,
   "id": "b4285f5f",
   "metadata": {},
   "outputs": [],
   "source": [
    "q1=df[\"ApplicantIncome\"].quantile(0.25)\n",
    "q3=df[\"ApplicantIncome\"].quantile(0.75)\n",
    "iqr=q3-q1\n",
    "upper_tail=q3+ 3*iqr\n",
    "lower_tail=q1- 3*iqr"
   ]
  },
  {
   "cell_type": "code",
   "execution_count": 31,
   "id": "eae545bb",
   "metadata": {},
   "outputs": [
    {
     "data": {
      "text/html": [
       "<div>\n",
       "<style scoped>\n",
       "    .dataframe tbody tr th:only-of-type {\n",
       "        vertical-align: middle;\n",
       "    }\n",
       "\n",
       "    .dataframe tbody tr th {\n",
       "        vertical-align: top;\n",
       "    }\n",
       "\n",
       "    .dataframe thead th {\n",
       "        text-align: right;\n",
       "    }\n",
       "</style>\n",
       "<table border=\"1\" class=\"dataframe\">\n",
       "  <thead>\n",
       "    <tr style=\"text-align: right;\">\n",
       "      <th></th>\n",
       "      <th>Loan_ID</th>\n",
       "      <th>Gender</th>\n",
       "      <th>Married</th>\n",
       "      <th>Dependents</th>\n",
       "      <th>Education</th>\n",
       "      <th>Self_Employed</th>\n",
       "      <th>ApplicantIncome</th>\n",
       "      <th>CoapplicantIncome</th>\n",
       "      <th>LoanAmount</th>\n",
       "      <th>Loan_Amount_Term</th>\n",
       "      <th>Credit_History</th>\n",
       "      <th>Property_Area</th>\n",
       "      <th>Loan_Status</th>\n",
       "    </tr>\n",
       "  </thead>\n",
       "  <tbody>\n",
       "    <tr>\n",
       "      <th>115</th>\n",
       "      <td>LP001401</td>\n",
       "      <td>Male</td>\n",
       "      <td>Yes</td>\n",
       "      <td>1</td>\n",
       "      <td>Graduate</td>\n",
       "      <td>No</td>\n",
       "      <td>14583</td>\n",
       "      <td>0.0</td>\n",
       "      <td>185.000000</td>\n",
       "      <td>180.0</td>\n",
       "      <td>1.0</td>\n",
       "      <td>Rural</td>\n",
       "      <td>Y</td>\n",
       "    </tr>\n",
       "    <tr>\n",
       "      <th>126</th>\n",
       "      <td>LP001448</td>\n",
       "      <td>Male</td>\n",
       "      <td>Yes</td>\n",
       "      <td>3+</td>\n",
       "      <td>Graduate</td>\n",
       "      <td>No</td>\n",
       "      <td>23803</td>\n",
       "      <td>0.0</td>\n",
       "      <td>370.000000</td>\n",
       "      <td>360.0</td>\n",
       "      <td>1.0</td>\n",
       "      <td>Rural</td>\n",
       "      <td>Y</td>\n",
       "    </tr>\n",
       "    <tr>\n",
       "      <th>130</th>\n",
       "      <td>LP001469</td>\n",
       "      <td>Male</td>\n",
       "      <td>No</td>\n",
       "      <td>0</td>\n",
       "      <td>Graduate</td>\n",
       "      <td>Yes</td>\n",
       "      <td>20166</td>\n",
       "      <td>0.0</td>\n",
       "      <td>650.000000</td>\n",
       "      <td>480.0</td>\n",
       "      <td>1.0</td>\n",
       "      <td>Urban</td>\n",
       "      <td>Y</td>\n",
       "    </tr>\n",
       "    <tr>\n",
       "      <th>138</th>\n",
       "      <td>LP001492</td>\n",
       "      <td>Male</td>\n",
       "      <td>No</td>\n",
       "      <td>0</td>\n",
       "      <td>Graduate</td>\n",
       "      <td>No</td>\n",
       "      <td>14999</td>\n",
       "      <td>0.0</td>\n",
       "      <td>242.000000</td>\n",
       "      <td>360.0</td>\n",
       "      <td>0.0</td>\n",
       "      <td>Semiurban</td>\n",
       "      <td>N</td>\n",
       "    </tr>\n",
       "    <tr>\n",
       "      <th>146</th>\n",
       "      <td>LP001516</td>\n",
       "      <td>Female</td>\n",
       "      <td>Yes</td>\n",
       "      <td>2</td>\n",
       "      <td>Graduate</td>\n",
       "      <td>No</td>\n",
       "      <td>14866</td>\n",
       "      <td>0.0</td>\n",
       "      <td>70.000000</td>\n",
       "      <td>360.0</td>\n",
       "      <td>1.0</td>\n",
       "      <td>Urban</td>\n",
       "      <td>Y</td>\n",
       "    </tr>\n",
       "    <tr>\n",
       "      <th>155</th>\n",
       "      <td>LP001536</td>\n",
       "      <td>Male</td>\n",
       "      <td>Yes</td>\n",
       "      <td>3+</td>\n",
       "      <td>Graduate</td>\n",
       "      <td>No</td>\n",
       "      <td>39999</td>\n",
       "      <td>0.0</td>\n",
       "      <td>600.000000</td>\n",
       "      <td>180.0</td>\n",
       "      <td>0.0</td>\n",
       "      <td>Semiurban</td>\n",
       "      <td>Y</td>\n",
       "    </tr>\n",
       "    <tr>\n",
       "      <th>171</th>\n",
       "      <td>LP001585</td>\n",
       "      <td>Male</td>\n",
       "      <td>Yes</td>\n",
       "      <td>3+</td>\n",
       "      <td>Graduate</td>\n",
       "      <td>No</td>\n",
       "      <td>51763</td>\n",
       "      <td>0.0</td>\n",
       "      <td>700.000000</td>\n",
       "      <td>300.0</td>\n",
       "      <td>1.0</td>\n",
       "      <td>Urban</td>\n",
       "      <td>Y</td>\n",
       "    </tr>\n",
       "    <tr>\n",
       "      <th>183</th>\n",
       "      <td>LP001637</td>\n",
       "      <td>Male</td>\n",
       "      <td>Yes</td>\n",
       "      <td>1</td>\n",
       "      <td>Graduate</td>\n",
       "      <td>No</td>\n",
       "      <td>33846</td>\n",
       "      <td>0.0</td>\n",
       "      <td>260.000000</td>\n",
       "      <td>360.0</td>\n",
       "      <td>1.0</td>\n",
       "      <td>Semiurban</td>\n",
       "      <td>N</td>\n",
       "    </tr>\n",
       "    <tr>\n",
       "      <th>185</th>\n",
       "      <td>LP001640</td>\n",
       "      <td>Male</td>\n",
       "      <td>Yes</td>\n",
       "      <td>0</td>\n",
       "      <td>Graduate</td>\n",
       "      <td>Yes</td>\n",
       "      <td>39147</td>\n",
       "      <td>4750.0</td>\n",
       "      <td>120.000000</td>\n",
       "      <td>360.0</td>\n",
       "      <td>1.0</td>\n",
       "      <td>Semiurban</td>\n",
       "      <td>Y</td>\n",
       "    </tr>\n",
       "    <tr>\n",
       "      <th>254</th>\n",
       "      <td>LP001844</td>\n",
       "      <td>Male</td>\n",
       "      <td>No</td>\n",
       "      <td>0</td>\n",
       "      <td>Graduate</td>\n",
       "      <td>Yes</td>\n",
       "      <td>16250</td>\n",
       "      <td>0.0</td>\n",
       "      <td>192.000000</td>\n",
       "      <td>360.0</td>\n",
       "      <td>0.0</td>\n",
       "      <td>Urban</td>\n",
       "      <td>N</td>\n",
       "    </tr>\n",
       "    <tr>\n",
       "      <th>258</th>\n",
       "      <td>LP001859</td>\n",
       "      <td>Male</td>\n",
       "      <td>Yes</td>\n",
       "      <td>0</td>\n",
       "      <td>Graduate</td>\n",
       "      <td>No</td>\n",
       "      <td>14683</td>\n",
       "      <td>2100.0</td>\n",
       "      <td>304.000000</td>\n",
       "      <td>360.0</td>\n",
       "      <td>1.0</td>\n",
       "      <td>Rural</td>\n",
       "      <td>N</td>\n",
       "    </tr>\n",
       "    <tr>\n",
       "      <th>278</th>\n",
       "      <td>LP001907</td>\n",
       "      <td>Male</td>\n",
       "      <td>Yes</td>\n",
       "      <td>0</td>\n",
       "      <td>Graduate</td>\n",
       "      <td>No</td>\n",
       "      <td>14583</td>\n",
       "      <td>0.0</td>\n",
       "      <td>436.000000</td>\n",
       "      <td>360.0</td>\n",
       "      <td>1.0</td>\n",
       "      <td>Semiurban</td>\n",
       "      <td>Y</td>\n",
       "    </tr>\n",
       "    <tr>\n",
       "      <th>284</th>\n",
       "      <td>LP001922</td>\n",
       "      <td>Male</td>\n",
       "      <td>Yes</td>\n",
       "      <td>0</td>\n",
       "      <td>Graduate</td>\n",
       "      <td>No</td>\n",
       "      <td>20667</td>\n",
       "      <td>0.0</td>\n",
       "      <td>146.412162</td>\n",
       "      <td>360.0</td>\n",
       "      <td>1.0</td>\n",
       "      <td>Rural</td>\n",
       "      <td>N</td>\n",
       "    </tr>\n",
       "    <tr>\n",
       "      <th>308</th>\n",
       "      <td>LP001996</td>\n",
       "      <td>Male</td>\n",
       "      <td>No</td>\n",
       "      <td>0</td>\n",
       "      <td>Graduate</td>\n",
       "      <td>No</td>\n",
       "      <td>20233</td>\n",
       "      <td>0.0</td>\n",
       "      <td>480.000000</td>\n",
       "      <td>360.0</td>\n",
       "      <td>1.0</td>\n",
       "      <td>Rural</td>\n",
       "      <td>N</td>\n",
       "    </tr>\n",
       "    <tr>\n",
       "      <th>324</th>\n",
       "      <td>LP002065</td>\n",
       "      <td>Male</td>\n",
       "      <td>Yes</td>\n",
       "      <td>3+</td>\n",
       "      <td>Graduate</td>\n",
       "      <td>No</td>\n",
       "      <td>15000</td>\n",
       "      <td>0.0</td>\n",
       "      <td>300.000000</td>\n",
       "      <td>360.0</td>\n",
       "      <td>1.0</td>\n",
       "      <td>Rural</td>\n",
       "      <td>Y</td>\n",
       "    </tr>\n",
       "    <tr>\n",
       "      <th>333</th>\n",
       "      <td>LP002101</td>\n",
       "      <td>Male</td>\n",
       "      <td>Yes</td>\n",
       "      <td>0</td>\n",
       "      <td>Graduate</td>\n",
       "      <td>No</td>\n",
       "      <td>63337</td>\n",
       "      <td>0.0</td>\n",
       "      <td>490.000000</td>\n",
       "      <td>180.0</td>\n",
       "      <td>1.0</td>\n",
       "      <td>Urban</td>\n",
       "      <td>Y</td>\n",
       "    </tr>\n",
       "    <tr>\n",
       "      <th>369</th>\n",
       "      <td>LP002191</td>\n",
       "      <td>Male</td>\n",
       "      <td>Yes</td>\n",
       "      <td>0</td>\n",
       "      <td>Graduate</td>\n",
       "      <td>No</td>\n",
       "      <td>19730</td>\n",
       "      <td>5266.0</td>\n",
       "      <td>570.000000</td>\n",
       "      <td>360.0</td>\n",
       "      <td>1.0</td>\n",
       "      <td>Rural</td>\n",
       "      <td>N</td>\n",
       "    </tr>\n",
       "    <tr>\n",
       "      <th>370</th>\n",
       "      <td>LP002194</td>\n",
       "      <td>Female</td>\n",
       "      <td>No</td>\n",
       "      <td>0</td>\n",
       "      <td>Graduate</td>\n",
       "      <td>Yes</td>\n",
       "      <td>15759</td>\n",
       "      <td>0.0</td>\n",
       "      <td>55.000000</td>\n",
       "      <td>360.0</td>\n",
       "      <td>1.0</td>\n",
       "      <td>Semiurban</td>\n",
       "      <td>Y</td>\n",
       "    </tr>\n",
       "    <tr>\n",
       "      <th>409</th>\n",
       "      <td>LP002317</td>\n",
       "      <td>Male</td>\n",
       "      <td>Yes</td>\n",
       "      <td>3+</td>\n",
       "      <td>Graduate</td>\n",
       "      <td>No</td>\n",
       "      <td>81000</td>\n",
       "      <td>0.0</td>\n",
       "      <td>360.000000</td>\n",
       "      <td>360.0</td>\n",
       "      <td>0.0</td>\n",
       "      <td>Rural</td>\n",
       "      <td>N</td>\n",
       "    </tr>\n",
       "    <tr>\n",
       "      <th>424</th>\n",
       "      <td>LP002364</td>\n",
       "      <td>Male</td>\n",
       "      <td>Yes</td>\n",
       "      <td>0</td>\n",
       "      <td>Graduate</td>\n",
       "      <td>No</td>\n",
       "      <td>14880</td>\n",
       "      <td>0.0</td>\n",
       "      <td>96.000000</td>\n",
       "      <td>360.0</td>\n",
       "      <td>1.0</td>\n",
       "      <td>Semiurban</td>\n",
       "      <td>Y</td>\n",
       "    </tr>\n",
       "    <tr>\n",
       "      <th>443</th>\n",
       "      <td>LP002422</td>\n",
       "      <td>Male</td>\n",
       "      <td>No</td>\n",
       "      <td>1</td>\n",
       "      <td>Graduate</td>\n",
       "      <td>No</td>\n",
       "      <td>37719</td>\n",
       "      <td>0.0</td>\n",
       "      <td>152.000000</td>\n",
       "      <td>360.0</td>\n",
       "      <td>1.0</td>\n",
       "      <td>Semiurban</td>\n",
       "      <td>Y</td>\n",
       "    </tr>\n",
       "    <tr>\n",
       "      <th>467</th>\n",
       "      <td>LP002501</td>\n",
       "      <td>Male</td>\n",
       "      <td>Yes</td>\n",
       "      <td>0</td>\n",
       "      <td>Graduate</td>\n",
       "      <td>No</td>\n",
       "      <td>16692</td>\n",
       "      <td>0.0</td>\n",
       "      <td>110.000000</td>\n",
       "      <td>360.0</td>\n",
       "      <td>1.0</td>\n",
       "      <td>Semiurban</td>\n",
       "      <td>Y</td>\n",
       "    </tr>\n",
       "    <tr>\n",
       "      <th>475</th>\n",
       "      <td>LP002527</td>\n",
       "      <td>Male</td>\n",
       "      <td>Yes</td>\n",
       "      <td>2</td>\n",
       "      <td>Graduate</td>\n",
       "      <td>Yes</td>\n",
       "      <td>16525</td>\n",
       "      <td>1014.0</td>\n",
       "      <td>150.000000</td>\n",
       "      <td>360.0</td>\n",
       "      <td>1.0</td>\n",
       "      <td>Rural</td>\n",
       "      <td>Y</td>\n",
       "    </tr>\n",
       "    <tr>\n",
       "      <th>478</th>\n",
       "      <td>LP002531</td>\n",
       "      <td>Male</td>\n",
       "      <td>Yes</td>\n",
       "      <td>1</td>\n",
       "      <td>Graduate</td>\n",
       "      <td>Yes</td>\n",
       "      <td>16667</td>\n",
       "      <td>2250.0</td>\n",
       "      <td>86.000000</td>\n",
       "      <td>360.0</td>\n",
       "      <td>1.0</td>\n",
       "      <td>Semiurban</td>\n",
       "      <td>Y</td>\n",
       "    </tr>\n",
       "    <tr>\n",
       "      <th>487</th>\n",
       "      <td>LP002547</td>\n",
       "      <td>Male</td>\n",
       "      <td>Yes</td>\n",
       "      <td>1</td>\n",
       "      <td>Graduate</td>\n",
       "      <td>No</td>\n",
       "      <td>18333</td>\n",
       "      <td>0.0</td>\n",
       "      <td>500.000000</td>\n",
       "      <td>360.0</td>\n",
       "      <td>1.0</td>\n",
       "      <td>Urban</td>\n",
       "      <td>N</td>\n",
       "    </tr>\n",
       "    <tr>\n",
       "      <th>493</th>\n",
       "      <td>LP002582</td>\n",
       "      <td>Female</td>\n",
       "      <td>No</td>\n",
       "      <td>0</td>\n",
       "      <td>Not Graduate</td>\n",
       "      <td>Yes</td>\n",
       "      <td>17263</td>\n",
       "      <td>0.0</td>\n",
       "      <td>225.000000</td>\n",
       "      <td>360.0</td>\n",
       "      <td>1.0</td>\n",
       "      <td>Semiurban</td>\n",
       "      <td>Y</td>\n",
       "    </tr>\n",
       "    <tr>\n",
       "      <th>506</th>\n",
       "      <td>LP002624</td>\n",
       "      <td>Male</td>\n",
       "      <td>Yes</td>\n",
       "      <td>0</td>\n",
       "      <td>Graduate</td>\n",
       "      <td>No</td>\n",
       "      <td>20833</td>\n",
       "      <td>6667.0</td>\n",
       "      <td>480.000000</td>\n",
       "      <td>360.0</td>\n",
       "      <td>1.0</td>\n",
       "      <td>Urban</td>\n",
       "      <td>Y</td>\n",
       "    </tr>\n",
       "    <tr>\n",
       "      <th>525</th>\n",
       "      <td>LP002699</td>\n",
       "      <td>Male</td>\n",
       "      <td>Yes</td>\n",
       "      <td>2</td>\n",
       "      <td>Graduate</td>\n",
       "      <td>Yes</td>\n",
       "      <td>17500</td>\n",
       "      <td>0.0</td>\n",
       "      <td>400.000000</td>\n",
       "      <td>360.0</td>\n",
       "      <td>1.0</td>\n",
       "      <td>Rural</td>\n",
       "      <td>Y</td>\n",
       "    </tr>\n",
       "    <tr>\n",
       "      <th>534</th>\n",
       "      <td>LP002731</td>\n",
       "      <td>Female</td>\n",
       "      <td>No</td>\n",
       "      <td>0</td>\n",
       "      <td>Not Graduate</td>\n",
       "      <td>Yes</td>\n",
       "      <td>18165</td>\n",
       "      <td>0.0</td>\n",
       "      <td>125.000000</td>\n",
       "      <td>360.0</td>\n",
       "      <td>1.0</td>\n",
       "      <td>Urban</td>\n",
       "      <td>Y</td>\n",
       "    </tr>\n",
       "    <tr>\n",
       "      <th>561</th>\n",
       "      <td>LP002813</td>\n",
       "      <td>Female</td>\n",
       "      <td>Yes</td>\n",
       "      <td>1</td>\n",
       "      <td>Graduate</td>\n",
       "      <td>Yes</td>\n",
       "      <td>19484</td>\n",
       "      <td>0.0</td>\n",
       "      <td>600.000000</td>\n",
       "      <td>360.0</td>\n",
       "      <td>1.0</td>\n",
       "      <td>Semiurban</td>\n",
       "      <td>Y</td>\n",
       "    </tr>\n",
       "    <tr>\n",
       "      <th>572</th>\n",
       "      <td>LP002855</td>\n",
       "      <td>Male</td>\n",
       "      <td>Yes</td>\n",
       "      <td>2</td>\n",
       "      <td>Graduate</td>\n",
       "      <td>No</td>\n",
       "      <td>16666</td>\n",
       "      <td>0.0</td>\n",
       "      <td>275.000000</td>\n",
       "      <td>360.0</td>\n",
       "      <td>1.0</td>\n",
       "      <td>Urban</td>\n",
       "      <td>Y</td>\n",
       "    </tr>\n",
       "    <tr>\n",
       "      <th>594</th>\n",
       "      <td>LP002938</td>\n",
       "      <td>Male</td>\n",
       "      <td>Yes</td>\n",
       "      <td>0</td>\n",
       "      <td>Graduate</td>\n",
       "      <td>Yes</td>\n",
       "      <td>16120</td>\n",
       "      <td>0.0</td>\n",
       "      <td>260.000000</td>\n",
       "      <td>360.0</td>\n",
       "      <td>1.0</td>\n",
       "      <td>Urban</td>\n",
       "      <td>Y</td>\n",
       "    </tr>\n",
       "  </tbody>\n",
       "</table>\n",
       "</div>"
      ],
      "text/plain": [
       "      Loan_ID  Gender Married Dependents     Education Self_Employed  \\\n",
       "115  LP001401    Male     Yes          1      Graduate            No   \n",
       "126  LP001448    Male     Yes         3+      Graduate            No   \n",
       "130  LP001469    Male      No          0      Graduate           Yes   \n",
       "138  LP001492    Male      No          0      Graduate            No   \n",
       "146  LP001516  Female     Yes          2      Graduate            No   \n",
       "155  LP001536    Male     Yes         3+      Graduate            No   \n",
       "171  LP001585    Male     Yes         3+      Graduate            No   \n",
       "183  LP001637    Male     Yes          1      Graduate            No   \n",
       "185  LP001640    Male     Yes          0      Graduate           Yes   \n",
       "254  LP001844    Male      No          0      Graduate           Yes   \n",
       "258  LP001859    Male     Yes          0      Graduate            No   \n",
       "278  LP001907    Male     Yes          0      Graduate            No   \n",
       "284  LP001922    Male     Yes          0      Graduate            No   \n",
       "308  LP001996    Male      No          0      Graduate            No   \n",
       "324  LP002065    Male     Yes         3+      Graduate            No   \n",
       "333  LP002101    Male     Yes          0      Graduate            No   \n",
       "369  LP002191    Male     Yes          0      Graduate            No   \n",
       "370  LP002194  Female      No          0      Graduate           Yes   \n",
       "409  LP002317    Male     Yes         3+      Graduate            No   \n",
       "424  LP002364    Male     Yes          0      Graduate            No   \n",
       "443  LP002422    Male      No          1      Graduate            No   \n",
       "467  LP002501    Male     Yes          0      Graduate            No   \n",
       "475  LP002527    Male     Yes          2      Graduate           Yes   \n",
       "478  LP002531    Male     Yes          1      Graduate           Yes   \n",
       "487  LP002547    Male     Yes          1      Graduate            No   \n",
       "493  LP002582  Female      No          0  Not Graduate           Yes   \n",
       "506  LP002624    Male     Yes          0      Graduate            No   \n",
       "525  LP002699    Male     Yes          2      Graduate           Yes   \n",
       "534  LP002731  Female      No          0  Not Graduate           Yes   \n",
       "561  LP002813  Female     Yes          1      Graduate           Yes   \n",
       "572  LP002855    Male     Yes          2      Graduate            No   \n",
       "594  LP002938    Male     Yes          0      Graduate           Yes   \n",
       "\n",
       "     ApplicantIncome  CoapplicantIncome  LoanAmount  Loan_Amount_Term  \\\n",
       "115            14583                0.0  185.000000             180.0   \n",
       "126            23803                0.0  370.000000             360.0   \n",
       "130            20166                0.0  650.000000             480.0   \n",
       "138            14999                0.0  242.000000             360.0   \n",
       "146            14866                0.0   70.000000             360.0   \n",
       "155            39999                0.0  600.000000             180.0   \n",
       "171            51763                0.0  700.000000             300.0   \n",
       "183            33846                0.0  260.000000             360.0   \n",
       "185            39147             4750.0  120.000000             360.0   \n",
       "254            16250                0.0  192.000000             360.0   \n",
       "258            14683             2100.0  304.000000             360.0   \n",
       "278            14583                0.0  436.000000             360.0   \n",
       "284            20667                0.0  146.412162             360.0   \n",
       "308            20233                0.0  480.000000             360.0   \n",
       "324            15000                0.0  300.000000             360.0   \n",
       "333            63337                0.0  490.000000             180.0   \n",
       "369            19730             5266.0  570.000000             360.0   \n",
       "370            15759                0.0   55.000000             360.0   \n",
       "409            81000                0.0  360.000000             360.0   \n",
       "424            14880                0.0   96.000000             360.0   \n",
       "443            37719                0.0  152.000000             360.0   \n",
       "467            16692                0.0  110.000000             360.0   \n",
       "475            16525             1014.0  150.000000             360.0   \n",
       "478            16667             2250.0   86.000000             360.0   \n",
       "487            18333                0.0  500.000000             360.0   \n",
       "493            17263                0.0  225.000000             360.0   \n",
       "506            20833             6667.0  480.000000             360.0   \n",
       "525            17500                0.0  400.000000             360.0   \n",
       "534            18165                0.0  125.000000             360.0   \n",
       "561            19484                0.0  600.000000             360.0   \n",
       "572            16666                0.0  275.000000             360.0   \n",
       "594            16120                0.0  260.000000             360.0   \n",
       "\n",
       "     Credit_History Property_Area Loan_Status  \n",
       "115             1.0         Rural           Y  \n",
       "126             1.0         Rural           Y  \n",
       "130             1.0         Urban           Y  \n",
       "138             0.0     Semiurban           N  \n",
       "146             1.0         Urban           Y  \n",
       "155             0.0     Semiurban           Y  \n",
       "171             1.0         Urban           Y  \n",
       "183             1.0     Semiurban           N  \n",
       "185             1.0     Semiurban           Y  \n",
       "254             0.0         Urban           N  \n",
       "258             1.0         Rural           N  \n",
       "278             1.0     Semiurban           Y  \n",
       "284             1.0         Rural           N  \n",
       "308             1.0         Rural           N  \n",
       "324             1.0         Rural           Y  \n",
       "333             1.0         Urban           Y  \n",
       "369             1.0         Rural           N  \n",
       "370             1.0     Semiurban           Y  \n",
       "409             0.0         Rural           N  \n",
       "424             1.0     Semiurban           Y  \n",
       "443             1.0     Semiurban           Y  \n",
       "467             1.0     Semiurban           Y  \n",
       "475             1.0         Rural           Y  \n",
       "478             1.0     Semiurban           Y  \n",
       "487             1.0         Urban           N  \n",
       "493             1.0     Semiurban           Y  \n",
       "506             1.0         Urban           Y  \n",
       "525             1.0         Rural           Y  \n",
       "534             1.0         Urban           Y  \n",
       "561             1.0     Semiurban           Y  \n",
       "572             1.0         Urban           Y  \n",
       "594             1.0         Urban           Y  "
      ]
     },
     "execution_count": 31,
     "metadata": {},
     "output_type": "execute_result"
    }
   ],
   "source": [
    "outliers=df[(df[\"ApplicantIncome\"]<lower_tail)|(df[\"ApplicantIncome\"]>upper_tail)]\n",
    "outliers"
   ]
  },
  {
   "cell_type": "raw",
   "id": "1b7eea8b",
   "metadata": {},
   "source": [
    "df['ApplicantIncome'] = df['ApplicantIncome'].clip(lower=lower_tail, upper=upper_tail)    #Capping under IQR"
   ]
  },
  {
   "cell_type": "code",
   "execution_count": 32,
   "id": "3f4fe334",
   "metadata": {},
   "outputs": [],
   "source": [
    "df['ApplicantIncome'] = np.where(df['ApplicantIncome']>upper_tail ,df['ApplicantIncome'].median(), df['ApplicantIncome'])\n",
    "df['ApplicantIncome'] = np.where(df['ApplicantIncome']<lower_tail ,df['ApplicantIncome'].median(), df['ApplicantIncome'])"
   ]
  },
  {
   "cell_type": "code",
   "execution_count": 33,
   "id": "58c42b93",
   "metadata": {},
   "outputs": [],
   "source": [
    "q1=df[\"CoapplicantIncome\"].quantile(0.25)\n",
    "q3=df[\"CoapplicantIncome\"].quantile(0.75)\n",
    "iqr=q3-q1\n",
    "upper_tail=q3+ 3*iqr\n",
    "lower_tail=q1- 3*iqr"
   ]
  },
  {
   "cell_type": "code",
   "execution_count": 34,
   "id": "54519dd8",
   "metadata": {},
   "outputs": [],
   "source": [
    "df[\"CoapplicantIncome\"] = np.where(df[\"CoapplicantIncome\"]>upper_tail ,df[\"CoapplicantIncome\"].median(), df[\"CoapplicantIncome\"])\n",
    "df[\"CoapplicantIncome\"] = np.where(df[\"CoapplicantIncome\"]<lower_tail ,df[\"CoapplicantIncome\"].median(), df[\"CoapplicantIncome\"])"
   ]
  },
  {
   "cell_type": "code",
   "execution_count": 35,
   "id": "1bd73378",
   "metadata": {},
   "outputs": [],
   "source": [
    "q1=df[\"LoanAmount\"].quantile(0.25)\n",
    "q3=df[\"LoanAmount\"].quantile(0.75)\n",
    "iqr=q3-q1\n",
    "upper_tail=q3+ 3*iqr\n",
    "lower_tail=q1- 3*iqr"
   ]
  },
  {
   "cell_type": "code",
   "execution_count": 36,
   "id": "367350ef",
   "metadata": {},
   "outputs": [],
   "source": [
    "df[\"LoanAmount\"] = np.where(df[\"LoanAmount\"]>upper_tail ,df[\"LoanAmount\"].median(), df[\"LoanAmount\"])\n",
    "df[\"LoanAmount\"] = np.where(df[\"LoanAmount\"]<lower_tail ,df[\"LoanAmount\"].median(), df[\"LoanAmount\"])"
   ]
  },
  {
   "cell_type": "code",
   "execution_count": 37,
   "id": "6a0cb6f7",
   "metadata": {},
   "outputs": [],
   "source": [
    "q1=df[\"Loan_Amount_Term\"].quantile(0.25)\n",
    "q3=df[\"Loan_Amount_Term\"].quantile(0.75)\n",
    "iqr=q3-q1\n",
    "upper_tail=q3+ 3*iqr\n",
    "lower_tail=q1- 3*iqr"
   ]
  },
  {
   "cell_type": "code",
   "execution_count": 38,
   "id": "77a5c93b",
   "metadata": {},
   "outputs": [],
   "source": [
    "df[\"Loan_Amount_Term\"] = np.where(df[\"Loan_Amount_Term\"]>upper_tail ,df[\"Loan_Amount_Term\"].median(), df[\"Loan_Amount_Term\"])\n",
    "df[\"Loan_Amount_Term\"] = np.where(df[\"Loan_Amount_Term\"]<lower_tail ,df[\"Loan_Amount_Term\"].median(), df[\"Loan_Amount_Term\"])"
   ]
  },
  {
   "cell_type": "raw",
   "id": "78c476f5",
   "metadata": {},
   "source": [
    "3.Encoding:-"
   ]
  },
  {
   "cell_type": "code",
   "execution_count": 39,
   "id": "3713f688",
   "metadata": {},
   "outputs": [],
   "source": [
    "df[\"Gender\"]=df[\"Gender\"].replace({\"Male\":1,\"Female\":0})\n",
    "df[\"Married\"]=df[\"Married\"].replace({\"Yes\":1,\"No\":0})\n",
    "df[\"Education\"]=df[\"Education\"].replace({\"Graduate\":1,\"Not Graduate\":0})\n",
    "df[\"Self_Employed\"]=df[\"Self_Employed\"].replace({\"Yes\":1,\"No\":0})\n",
    "df[\"Dependents\"]=df[\"Dependents\"].replace({\"0\":0,\"1\":1,\"2\":2,\"3+\":3})\n",
    "df[\"Property_Area\"]=df[\"Property_Area\"].replace({\"Semiurban\":0,\"Urban\":1,\"Rural\":2})\n",
    "df[\"Loan_Status\"]=df[\"Loan_Status\"].replace({\"Y\":1,\"N\":0})"
   ]
  },
  {
   "cell_type": "code",
   "execution_count": 40,
   "id": "af427ea6",
   "metadata": {},
   "outputs": [
    {
     "name": "stdout",
     "output_type": "stream",
     "text": [
      "<class 'pandas.core.frame.DataFrame'>\n",
      "RangeIndex: 614 entries, 0 to 613\n",
      "Data columns (total 13 columns):\n",
      " #   Column             Non-Null Count  Dtype  \n",
      "---  ------             --------------  -----  \n",
      " 0   Loan_ID            614 non-null    object \n",
      " 1   Gender             614 non-null    int64  \n",
      " 2   Married            614 non-null    int64  \n",
      " 3   Dependents         614 non-null    int64  \n",
      " 4   Education          614 non-null    int64  \n",
      " 5   Self_Employed      614 non-null    int64  \n",
      " 6   ApplicantIncome    614 non-null    float64\n",
      " 7   CoapplicantIncome  614 non-null    float64\n",
      " 8   LoanAmount         614 non-null    float64\n",
      " 9   Loan_Amount_Term   614 non-null    float64\n",
      " 10  Credit_History     614 non-null    float64\n",
      " 11  Property_Area      614 non-null    int64  \n",
      " 12  Loan_Status        614 non-null    int64  \n",
      "dtypes: float64(5), int64(7), object(1)\n",
      "memory usage: 62.5+ KB\n"
     ]
    }
   ],
   "source": [
    "df.info()"
   ]
  },
  {
   "cell_type": "raw",
   "id": "1dee111e",
   "metadata": {},
   "source": [
    "label=LabelEncoder()\n",
    "df[\"Property_Area\"]=label.fit_transform(df[\"Property_Area\"])"
   ]
  },
  {
   "cell_type": "code",
   "execution_count": 41,
   "id": "7088c79d",
   "metadata": {},
   "outputs": [
    {
     "data": {
      "text/plain": [
       "1    0.687296\n",
       "0    0.312704\n",
       "Name: Loan_Status, dtype: float64"
      ]
     },
     "execution_count": 41,
     "metadata": {},
     "output_type": "execute_result"
    }
   ],
   "source": [
    "df['Loan_Status'].value_counts()/df.shape[0]      #Data is Unbalanced"
   ]
  },
  {
   "cell_type": "raw",
   "id": "91ae0219",
   "metadata": {},
   "source": [
    "4.Feature Selection :- "
   ]
  },
  {
   "cell_type": "code",
   "execution_count": 42,
   "id": "ac749c5c",
   "metadata": {},
   "outputs": [],
   "source": [
    "df.drop(\"Loan_ID\",axis=1,inplace=True)"
   ]
  },
  {
   "cell_type": "raw",
   "id": "83ac9e0d",
   "metadata": {},
   "source": [
    "5.SMOTE :- "
   ]
  },
  {
   "cell_type": "code",
   "execution_count": 43,
   "id": "35cc2616",
   "metadata": {},
   "outputs": [],
   "source": [
    "X = df.drop(\"Loan_Status\",axis=1)\n",
    "Y = df[\"Loan_Status\"]"
   ]
  },
  {
   "cell_type": "code",
   "execution_count": 44,
   "id": "69feba5a",
   "metadata": {},
   "outputs": [],
   "source": [
    "smote = SMOTE()\n",
    "X,Y = smote.fit_resample(X,Y)"
   ]
  },
  {
   "cell_type": "code",
   "execution_count": 45,
   "id": "7b0df6cf",
   "metadata": {},
   "outputs": [],
   "source": [
    "x_train,x_test,y_train,y_test = train_test_split(X,Y,test_size=0.2,random_state=42)    #Data Splitting"
   ]
  },
  {
   "cell_type": "code",
   "execution_count": 46,
   "id": "2f68ba44",
   "metadata": {},
   "outputs": [
    {
     "name": "stderr",
     "output_type": "stream",
     "text": [
      "C:\\Users\\DELL\\Anaconda3\\desktop\\lib\\site-packages\\sklearn\\linear_model\\_logistic.py:444: ConvergenceWarning: lbfgs failed to converge (status=1):\n",
      "STOP: TOTAL NO. of ITERATIONS REACHED LIMIT.\n",
      "\n",
      "Increase the number of iterations (max_iter) or scale the data as shown in:\n",
      "    https://scikit-learn.org/stable/modules/preprocessing.html\n",
      "Please also refer to the documentation for alternative solver options:\n",
      "    https://scikit-learn.org/stable/modules/linear_model.html#logistic-regression\n",
      "  n_iter_i = _check_optimize_result(\n"
     ]
    },
    {
     "data": {
      "text/html": [
       "<style>#sk-container-id-1 {color: black;background-color: white;}#sk-container-id-1 pre{padding: 0;}#sk-container-id-1 div.sk-toggleable {background-color: white;}#sk-container-id-1 label.sk-toggleable__label {cursor: pointer;display: block;width: 100%;margin-bottom: 0;padding: 0.3em;box-sizing: border-box;text-align: center;}#sk-container-id-1 label.sk-toggleable__label-arrow:before {content: \"▸\";float: left;margin-right: 0.25em;color: #696969;}#sk-container-id-1 label.sk-toggleable__label-arrow:hover:before {color: black;}#sk-container-id-1 div.sk-estimator:hover label.sk-toggleable__label-arrow:before {color: black;}#sk-container-id-1 div.sk-toggleable__content {max-height: 0;max-width: 0;overflow: hidden;text-align: left;background-color: #f0f8ff;}#sk-container-id-1 div.sk-toggleable__content pre {margin: 0.2em;color: black;border-radius: 0.25em;background-color: #f0f8ff;}#sk-container-id-1 input.sk-toggleable__control:checked~div.sk-toggleable__content {max-height: 200px;max-width: 100%;overflow: auto;}#sk-container-id-1 input.sk-toggleable__control:checked~label.sk-toggleable__label-arrow:before {content: \"▾\";}#sk-container-id-1 div.sk-estimator input.sk-toggleable__control:checked~label.sk-toggleable__label {background-color: #d4ebff;}#sk-container-id-1 div.sk-label input.sk-toggleable__control:checked~label.sk-toggleable__label {background-color: #d4ebff;}#sk-container-id-1 input.sk-hidden--visually {border: 0;clip: rect(1px 1px 1px 1px);clip: rect(1px, 1px, 1px, 1px);height: 1px;margin: -1px;overflow: hidden;padding: 0;position: absolute;width: 1px;}#sk-container-id-1 div.sk-estimator {font-family: monospace;background-color: #f0f8ff;border: 1px dotted black;border-radius: 0.25em;box-sizing: border-box;margin-bottom: 0.5em;}#sk-container-id-1 div.sk-estimator:hover {background-color: #d4ebff;}#sk-container-id-1 div.sk-parallel-item::after {content: \"\";width: 100%;border-bottom: 1px solid gray;flex-grow: 1;}#sk-container-id-1 div.sk-label:hover label.sk-toggleable__label {background-color: #d4ebff;}#sk-container-id-1 div.sk-serial::before {content: \"\";position: absolute;border-left: 1px solid gray;box-sizing: border-box;top: 0;bottom: 0;left: 50%;z-index: 0;}#sk-container-id-1 div.sk-serial {display: flex;flex-direction: column;align-items: center;background-color: white;padding-right: 0.2em;padding-left: 0.2em;position: relative;}#sk-container-id-1 div.sk-item {position: relative;z-index: 1;}#sk-container-id-1 div.sk-parallel {display: flex;align-items: stretch;justify-content: center;background-color: white;position: relative;}#sk-container-id-1 div.sk-item::before, #sk-container-id-1 div.sk-parallel-item::before {content: \"\";position: absolute;border-left: 1px solid gray;box-sizing: border-box;top: 0;bottom: 0;left: 50%;z-index: -1;}#sk-container-id-1 div.sk-parallel-item {display: flex;flex-direction: column;z-index: 1;position: relative;background-color: white;}#sk-container-id-1 div.sk-parallel-item:first-child::after {align-self: flex-end;width: 50%;}#sk-container-id-1 div.sk-parallel-item:last-child::after {align-self: flex-start;width: 50%;}#sk-container-id-1 div.sk-parallel-item:only-child::after {width: 0;}#sk-container-id-1 div.sk-dashed-wrapped {border: 1px dashed gray;margin: 0 0.4em 0.5em 0.4em;box-sizing: border-box;padding-bottom: 0.4em;background-color: white;}#sk-container-id-1 div.sk-label label {font-family: monospace;font-weight: bold;display: inline-block;line-height: 1.2em;}#sk-container-id-1 div.sk-label-container {text-align: center;}#sk-container-id-1 div.sk-container {/* jupyter's `normalize.less` sets `[hidden] { display: none; }` but bootstrap.min.css set `[hidden] { display: none !important; }` so we also need the `!important` here to be able to override the default hidden behavior on the sphinx rendered scikit-learn.org. See: https://github.com/scikit-learn/scikit-learn/issues/21755 */display: inline-block !important;position: relative;}#sk-container-id-1 div.sk-text-repr-fallback {display: none;}</style><div id=\"sk-container-id-1\" class=\"sk-top-container\"><div class=\"sk-text-repr-fallback\"><pre>LogisticRegression()</pre><b>In a Jupyter environment, please rerun this cell to show the HTML representation or trust the notebook. <br />On GitHub, the HTML representation is unable to render, please try loading this page with nbviewer.org.</b></div><div class=\"sk-container\" hidden><div class=\"sk-item\"><div class=\"sk-estimator sk-toggleable\"><input class=\"sk-toggleable__control sk-hidden--visually\" id=\"sk-estimator-id-1\" type=\"checkbox\" checked><label for=\"sk-estimator-id-1\" class=\"sk-toggleable__label sk-toggleable__label-arrow\">LogisticRegression</label><div class=\"sk-toggleable__content\"><pre>LogisticRegression()</pre></div></div></div></div></div>"
      ],
      "text/plain": [
       "LogisticRegression()"
      ]
     },
     "execution_count": 46,
     "metadata": {},
     "output_type": "execute_result"
    }
   ],
   "source": [
    "Model = LogisticRegression()   #Model Training\n",
    "Model.fit(x_train,y_train)"
   ]
  },
  {
   "cell_type": "code",
   "execution_count": 47,
   "id": "f145311e",
   "metadata": {},
   "outputs": [
    {
     "data": {
      "text/plain": [
       "0.7692307692307693"
      ]
     },
     "execution_count": 47,
     "metadata": {},
     "output_type": "execute_result"
    }
   ],
   "source": [
    "# Testing Evaluation\n",
    "y_pred = Model.predict(x_test)\n",
    "Accuracy = accuracy_score(y_test,y_pred)\n",
    "Accuracy\n"
   ]
  },
  {
   "cell_type": "code",
   "execution_count": 58,
   "id": "defc7de0",
   "metadata": {},
   "outputs": [
    {
     "name": "stdout",
     "output_type": "stream",
     "text": [
      "[[ 90  59]\n",
      " [ 52 290]]\n"
     ]
    }
   ],
   "source": [
    "# Training Evaluation\n",
    "y_pred_train = Model.predict(x_train)\n",
    "Accuracy = accuracy_score(y_train,y_pred_train)\n",
    "Accuracy\n",
    "cnf_m=confusion_matrix(y_train,y_pred_train)\n",
    "print(cnf_m)"
   ]
  },
  {
   "cell_type": "code",
   "execution_count": 49,
   "id": "a4435025",
   "metadata": {},
   "outputs": [
    {
     "data": {
      "image/png": "[encoded data removed]",
      "text/plain": [
       "<Figure size 432x288 with 2 Axes>"
      ]
     },
     "metadata": {
      "needs_background": "light"
     },
     "output_type": "display_data"
    }
   ],
   "source": [
    "conf_matrix = confusion_matrix(y_test, y_pred)\n",
    "\n",
    "# Plot the confusion matrix using seaborn\n",
    "sns.heatmap(conf_matrix, annot=True)\n",
    "\n",
    "plt.title('Confusion Matrix')\n",
    "plt.xlabel('Predicted Label')\n",
    "plt.ylabel('True Label')\n",
    "plt.show()"
   ]
  },
  {
   "cell_type": "code",
   "execution_count": 50,
   "id": "7a434bc9",
   "metadata": {},
   "outputs": [
    {
     "data": {
      "text/plain": [
       "array([0.67269811, 0.53114258, 0.67591804, 0.82110373, 0.89744   ,\n",
       "       0.11409556, 0.89803826, 0.51921818, 0.41294944, 0.83848902,\n",
       "       0.29214402, 0.53307648, 0.16226534, 0.83145964, 0.85878824,\n",
       "       0.67816668, 0.64097308, 0.78317812, 0.94549903, 0.71544218,\n",
       "       0.27824737, 0.29775211, 0.87479635, 0.89221492, 0.01008669,\n",
       "       0.25638434, 0.86880537, 0.04128435, 0.65722678, 0.42490531,\n",
       "       0.46854407, 0.82836942, 0.58179831, 0.86072297, 0.78630634,\n",
       "       0.59268463, 0.46554483, 0.27504083, 0.75359624, 0.58766553,\n",
       "       0.79050521, 0.3760524 , 0.86460315, 0.02188853, 0.80397336,\n",
       "       0.22021097, 0.83592375, 0.38817882, 0.80121937, 0.58671849,\n",
       "       0.82442178, 0.0948632 , 0.62095758, 0.01656286, 0.91344289,\n",
       "       0.7111224 , 0.76325102, 0.03474398, 0.77964629, 0.45641134,\n",
       "       0.34633438, 0.86897856, 0.67939735, 0.80116705, 0.72583091,\n",
       "       0.76119174, 0.84170831, 0.4783548 , 0.10864947, 0.65406647,\n",
       "       0.31789218, 0.15378779, 0.77465159, 0.7524119 , 0.09339309,\n",
       "       0.76536816, 0.77839755, 0.63542819, 0.65958357, 0.57404215,\n",
       "       0.09203943, 0.75505511, 0.02459918, 0.05348838, 0.79628759,\n",
       "       0.81514416, 0.14270275, 0.84570991, 0.82107164, 0.11965163,\n",
       "       0.21415896, 0.80824867, 0.6648449 , 0.69978019, 0.64139373,\n",
       "       0.25070651, 0.73649423, 0.94122842, 0.07388754, 0.11767613,\n",
       "       0.84993657, 0.425774  , 0.05298557, 0.42232449, 0.83214037,\n",
       "       0.04054436, 0.77024477, 0.37420076, 0.45564402, 0.277959  ,\n",
       "       0.03225202, 0.71613642, 0.84400771, 0.08713152, 0.65625919,\n",
       "       0.42127607, 0.52013292, 0.57362152, 0.83871521, 0.59359573,\n",
       "       0.86524898, 0.8541079 , 0.71257529, 0.41371972, 0.09941327,\n",
       "       0.66091532, 0.84626934, 0.7551859 , 0.02899702, 0.72734649,\n",
       "       0.78238198, 0.03804783, 0.5546635 , 0.11644847, 0.11653582,\n",
       "       0.69304924, 0.87054427, 0.54845477, 0.43086286, 0.80105168,\n",
       "       0.84287545, 0.5200477 , 0.02701866, 0.89447791, 0.45352481,\n",
       "       0.12762534, 0.75612159, 0.73604835, 0.56870831, 0.50512102,\n",
       "       0.75238815, 0.42427377, 0.80919325, 0.31180064, 0.50639145,\n",
       "       0.27718191, 0.49471126, 0.96251104, 0.5105648 , 0.870471  ,\n",
       "       0.01389184, 0.82078344, 0.83836538, 0.56117283, 0.83749653,\n",
       "       0.33048428, 0.83179182, 0.07010581, 0.88109406, 0.81292047,\n",
       "       0.11278166, 0.43779188, 0.12432743, 0.57367518, 0.09120477,\n",
       "       0.83489275, 0.87112945, 0.02433706, 0.95847577, 0.74774171,\n",
       "       0.54517582, 0.63892944, 0.57602349, 0.01024791, 0.11235959,\n",
       "       0.74596273, 0.8728657 , 0.61282019, 0.02350149, 0.77846013,\n",
       "       0.81803776, 0.52073378, 0.57372999, 0.41479577, 0.85717929,\n",
       "       0.03923059, 0.83248278, 0.86595987, 0.30228238, 0.02553374,\n",
       "       0.02629608, 0.4594448 , 0.5941761 , 0.21625936, 0.59717032,\n",
       "       0.62411484, 0.55935824, 0.03091008, 0.81401906, 0.36484715,\n",
       "       0.73045062, 0.72475942, 0.27921781, 0.3102192 , 0.62821971,\n",
       "       0.56980963, 0.78954801, 0.89687913, 0.85801605, 0.79364355,\n",
       "       0.79149036, 0.91071663, 0.75913001, 0.05159381, 0.76890019,\n",
       "       0.52380672, 0.36730024, 0.09029399, 0.87065539, 0.49755353,\n",
       "       0.14171137, 0.40733726, 0.49138648, 0.49962951, 0.59417439,\n",
       "       0.03762268, 0.06274183, 0.8197126 , 0.09832784, 0.50696658,\n",
       "       0.77146262, 0.65708903, 0.71244445, 0.72475961, 0.8215717 ,\n",
       "       0.02252363, 0.79924062, 0.86238548, 0.50826596, 0.20866597,\n",
       "       0.72850169, 0.72228468, 0.44065504, 0.05257626, 0.4415333 ,\n",
       "       0.87354128, 0.40722876, 0.68571029, 0.02739621, 0.116751  ,\n",
       "       0.53346721, 0.64341175, 0.88763528, 0.8279817 , 0.78168357,\n",
       "       0.83337194, 0.61207064, 0.79944459, 0.75901577, 0.26421331,\n",
       "       0.30201468, 0.67249509, 0.06097311, 0.06741164, 0.7065183 ,\n",
       "       0.52916597, 0.85865982, 0.01960155, 0.91225417, 0.83443718,\n",
       "       0.01447967, 0.59526096, 0.42315818, 0.80567612, 0.16862295,\n",
       "       0.79878843, 0.46229422, 0.74192742, 0.39784312, 0.93920953,\n",
       "       0.1442181 , 0.55967386, 0.18046847, 0.63625692, 0.58404902,\n",
       "       0.60541414, 0.84679124, 0.10873194, 0.0988981 , 0.62801552,\n",
       "       0.75478173, 0.23217888, 0.45252601, 0.02821555, 0.44235599,\n",
       "       0.83968887, 0.86068369, 0.72046084, 0.56726578, 0.5762032 ,\n",
       "       0.51518203, 0.04414897, 0.88601015, 0.30633259, 0.06923113,\n",
       "       0.25884887, 0.70016794, 0.80754435, 0.11515073, 0.70990243,\n",
       "       0.03844126, 0.67705914, 0.82526481, 0.83331575, 0.46752092,\n",
       "       0.01850699, 0.3962006 , 0.18116817, 0.60044541, 0.68035009,\n",
       "       0.33647412, 0.02430858, 0.69556913, 0.82745284, 0.42834706,\n",
       "       0.81192836, 0.59714113, 0.61220765, 0.82109886, 0.61858284,\n",
       "       0.799219  , 0.82604498, 0.81704073, 0.59264134, 0.02659617,\n",
       "       0.55019852, 0.61683017, 0.2691499 , 0.21316473, 0.61439131,\n",
       "       0.44487915, 0.69034589, 0.44364935, 0.14153334, 0.65603486,\n",
       "       0.63694125, 0.04399883, 0.63906021, 0.31351756, 0.67897535,\n",
       "       0.03647791, 0.43536483, 0.51670928, 0.09314419, 0.69829588,\n",
       "       0.28894685, 0.83228805, 0.37674439, 0.64851866, 0.08071262,\n",
       "       0.07728122, 0.86930433, 0.61866454, 0.17168996, 0.64669117,\n",
       "       0.12510716, 0.68785032, 0.83332588, 0.43278452, 0.76728041,\n",
       "       0.67916951, 0.55877127, 0.70539957, 0.26714396, 0.52270791,\n",
       "       0.84739782, 0.02435028, 0.44608259, 0.63671659, 0.54677111,\n",
       "       0.03543728, 0.45760241, 0.72390828, 0.19254583, 0.4343408 ,\n",
       "       0.01010265, 0.10363885, 0.41928575, 0.30219577, 0.86662203,\n",
       "       0.71547855, 0.73972089, 0.73964352, 0.69127086, 0.20683121,\n",
       "       0.83233044, 0.00924626, 0.79372402, 0.19897883, 0.80558005,\n",
       "       0.90359692, 0.34595905, 0.00945219, 0.52289592, 0.01531515,\n",
       "       0.37242824, 0.79437412, 0.36480878, 0.10467796, 0.07321474,\n",
       "       0.51780122, 0.86639821, 0.42966315, 0.06411517, 0.79337687,\n",
       "       0.67224164, 0.41568947, 0.69912268, 0.01851093, 0.02768071,\n",
       "       0.55200558, 0.62744011, 0.14811436, 0.90682448, 0.91574531,\n",
       "       0.82408598, 0.0885378 , 0.04495606, 0.05546025, 0.68561995,\n",
       "       0.23662023, 0.27121663, 0.23020283, 0.87101906, 0.10658   ,\n",
       "       0.83463705, 0.82869319, 0.0310574 , 0.28891138, 0.54447758,\n",
       "       0.43188543, 0.01514382, 0.06786135, 0.05938621, 0.55454491,\n",
       "       0.60222605, 0.03312718, 0.8362842 , 0.57651402, 0.02649706,\n",
       "       0.74626844, 0.63985238, 0.75908418, 0.32274193, 0.01642849,\n",
       "       0.8085086 , 0.40304579, 0.01876233, 0.56702647, 0.6682485 ,\n",
       "       0.04893513, 0.028756  , 0.34232269, 0.22399326, 0.6590104 ,\n",
       "       0.10275445, 0.84373101, 0.72969293, 0.63445409, 0.0374118 ,\n",
       "       0.38566907, 0.07967721, 0.5887756 , 0.04566944, 0.17534236,\n",
       "       0.14752876, 0.86412082, 0.06016193, 0.54163235, 0.0474934 ,\n",
       "       0.04193997, 0.48538611, 0.34885732, 0.2565376 , 0.88557407,\n",
       "       0.91060675, 0.84768595, 0.77452319, 0.07759916, 0.75716052,\n",
       "       0.86888406, 0.68391951, 0.74929285, 0.42532365, 0.65431209,\n",
       "       0.72356617, 0.73160414, 0.01481744, 0.04816398, 0.02432561,\n",
       "       0.15887051, 0.58443842, 0.67113357, 0.619572  , 0.68199341,\n",
       "       0.72380265, 0.584068  , 0.79143281, 0.77861463, 0.6599428 ,\n",
       "       0.59072188, 0.2761293 , 0.11144475, 0.01943795, 0.50046771,\n",
       "       0.46413146, 0.90534607, 0.81201678, 0.74163042, 0.90760364,\n",
       "       0.02332702, 0.04681319, 0.53387927, 0.82794949, 0.8445013 ,\n",
       "       0.02090662, 0.81204646, 0.51151083, 0.05469135, 0.41110893,\n",
       "       0.72552482, 0.39264424, 0.03259614, 0.57513801, 0.55144145,\n",
       "       0.64996725, 0.83917065, 0.74256064, 0.7660344 , 0.73624141,\n",
       "       0.60227305, 0.67848456, 0.01890337, 0.8670101 , 0.64709221,\n",
       "       0.65549682, 0.46735919, 0.84537887, 0.01797145, 0.57944533,\n",
       "       0.48403224, 0.91556504, 0.01019178, 0.06135016, 0.04062468,\n",
       "       0.05532785, 0.20012282, 0.2564829 , 0.80887269, 0.01963285,\n",
       "       0.93003748, 0.73626767, 0.63808365, 0.31778154, 0.81138839,\n",
       "       0.88873998, 0.7942939 , 0.4739434 , 0.91949857, 0.12416402,\n",
       "       0.47982914, 0.47605877, 0.87602295, 0.04191579, 0.47814598,\n",
       "       0.56953773, 0.835446  , 0.85606739, 0.12156582, 0.60344898,\n",
       "       0.02577227, 0.48238457, 0.91762033, 0.35760512, 0.40693775,\n",
       "       0.0197404 , 0.70899064, 0.84873512, 0.54783768, 0.76653373,\n",
       "       0.82113747, 0.01354632, 0.84045291, 0.4757644 , 0.22973868,\n",
       "       0.34243657, 0.65493134, 0.86405345, 0.81293782, 0.78823194,\n",
       "       0.61264244, 0.86237597, 0.56252301, 0.03193823, 0.7873315 ,\n",
       "       0.71201276, 0.61793774, 0.65801035, 0.66478429, 0.16492369,\n",
       "       0.03514145, 0.79594863, 0.7044145 , 0.05868759, 0.40515059,\n",
       "       0.62168685, 0.45619475, 0.60928381, 0.92742485, 0.65766847,\n",
       "       0.67911912, 0.28505492, 0.65828168, 0.61935318, 0.04378449,\n",
       "       0.89395174, 0.09859091, 0.38089451, 0.7738094 , 0.68997316,\n",
       "       0.66319411, 0.6241809 , 0.58471921, 0.63483162, 0.88490585,\n",
       "       0.72385818, 0.64501189, 0.73648515, 0.47556093, 0.60363639,\n",
       "       0.01960629, 0.63961427, 0.49115639, 0.74550296, 0.02097911,\n",
       "       0.52700639, 0.15259838, 0.70632078, 0.01566231, 0.84805104,\n",
       "       0.96629334, 0.85125534, 0.58152264, 0.65827466, 0.82644833,\n",
       "       0.07950477, 0.61912964, 0.4175336 , 0.03245643, 0.74564838,\n",
       "       0.85133265, 0.69500741, 0.63872219, 0.65875714, 0.74393284])"
      ]
     },
     "execution_count": 50,
     "metadata": {},
     "output_type": "execute_result"
    }
   ],
   "source": [
    "y_train_proba=Model.predict_proba(x_train)\n",
    "y_train_proba=y_train_proba[:,1]\n",
    "y_train_proba"
   ]
  },
  {
   "cell_type": "code",
   "execution_count": 51,
   "id": "48419505",
   "metadata": {},
   "outputs": [
    {
     "data": {
      "image/png": "[encoded data removed]",
      "text/plain": [
       "<Figure size 432x432 with 1 Axes>"
      ]
     },
     "metadata": {
      "needs_background": "light"
     },
     "output_type": "display_data"
    }
   ],
   "source": [
    "from sklearn.metrics import roc_curve, auc\n",
    "import matplotlib.pyplot as plt\n",
    "\n",
    "# Assuming y_true and y_scores are your true labels and predicted probabilities\n",
    "# Replace them with the actual variable names from your logistic regression model\n",
    "\n",
    "# Calculate the ROC curve\n",
    "fpr, tpr, thresholds = roc_curve(y_train, y_train_proba)\n",
    "\n",
    "# Calculate the area under the ROC curve (AUC)\n",
    "roc_auc = auc(fpr, tpr)\n",
    "\n",
    "# Plot the ROC curve\n",
    "plt.figure(figsize=(6, 6))\n",
    "plt.plot(fpr, tpr, color='darkorange', lw=2, label=f'ROC curve (AUC = {roc_auc:.2f})')\n",
    "plt.plot([0, 1], [0, 1], color='navy', lw=2, linestyle='--')\n",
    "plt.xlabel('False Positive Rate')\n",
    "plt.ylabel('True Positive Rate')\n",
    "plt.title('Receiver Operating Characteristic (ROC) Curve')\n",
    "plt.legend(loc='lower right')\n",
    "plt.show()"
   ]
  },
  {
   "cell_type": "code",
   "execution_count": 52,
   "id": "bc87281b",
   "metadata": {},
   "outputs": [],
   "source": [
    "from sklearn.linear_model import LogisticRegression\n",
    "from sklearn.model_selection import train_test_split\n",
    "from sklearn.metrics import accuracy_score, classification_report\n",
    "\n",
    "class CustomThresholdLogisticRegression(LogisticRegression):\n",
    "    def __init__(self, threshold=0.5, **kwargs):\n",
    "        self.threshold = threshold\n",
    "        super().__init__(**kwargs)\n",
    "\n",
    "    def predict(self, X):\n",
    "        probabilities = super().predict_proba(X)[:, 1]\n",
    "        return (probabilities >= self.threshold).astype(int)"
   ]
  },
  {
   "cell_type": "code",
   "execution_count": 71,
   "id": "b8a944d7",
   "metadata": {},
   "outputs": [
    {
     "name": "stderr",
     "output_type": "stream",
     "text": [
      "C:\\Users\\DELL\\Anaconda3\\desktop\\lib\\site-packages\\sklearn\\linear_model\\_logistic.py:444: ConvergenceWarning: lbfgs failed to converge (status=1):\n",
      "STOP: TOTAL NO. of ITERATIONS REACHED LIMIT.\n",
      "\n",
      "Increase the number of iterations (max_iter) or scale the data as shown in:\n",
      "    https://scikit-learn.org/stable/modules/preprocessing.html\n",
      "Please also refer to the documentation for alternative solver options:\n",
      "    https://scikit-learn.org/stable/modules/linear_model.html#logistic-regression\n",
      "  n_iter_i = _check_optimize_result(\n"
     ]
    },
    {
     "data": {
      "text/html": [
       "<style>#sk-container-id-6 {color: black;background-color: white;}#sk-container-id-6 pre{padding: 0;}#sk-container-id-6 div.sk-toggleable {background-color: white;}#sk-container-id-6 label.sk-toggleable__label {cursor: pointer;display: block;width: 100%;margin-bottom: 0;padding: 0.3em;box-sizing: border-box;text-align: center;}#sk-container-id-6 label.sk-toggleable__label-arrow:before {content: \"▸\";float: left;margin-right: 0.25em;color: #696969;}#sk-container-id-6 label.sk-toggleable__label-arrow:hover:before {color: black;}#sk-container-id-6 div.sk-estimator:hover label.sk-toggleable__label-arrow:before {color: black;}#sk-container-id-6 div.sk-toggleable__content {max-height: 0;max-width: 0;overflow: hidden;text-align: left;background-color: #f0f8ff;}#sk-container-id-6 div.sk-toggleable__content pre {margin: 0.2em;color: black;border-radius: 0.25em;background-color: #f0f8ff;}#sk-container-id-6 input.sk-toggleable__control:checked~div.sk-toggleable__content {max-height: 200px;max-width: 100%;overflow: auto;}#sk-container-id-6 input.sk-toggleable__control:checked~label.sk-toggleable__label-arrow:before {content: \"▾\";}#sk-container-id-6 div.sk-estimator input.sk-toggleable__control:checked~label.sk-toggleable__label {background-color: #d4ebff;}#sk-container-id-6 div.sk-label input.sk-toggleable__control:checked~label.sk-toggleable__label {background-color: #d4ebff;}#sk-container-id-6 input.sk-hidden--visually {border: 0;clip: rect(1px 1px 1px 1px);clip: rect(1px, 1px, 1px, 1px);height: 1px;margin: -1px;overflow: hidden;padding: 0;position: absolute;width: 1px;}#sk-container-id-6 div.sk-estimator {font-family: monospace;background-color: #f0f8ff;border: 1px dotted black;border-radius: 0.25em;box-sizing: border-box;margin-bottom: 0.5em;}#sk-container-id-6 div.sk-estimator:hover {background-color: #d4ebff;}#sk-container-id-6 div.sk-parallel-item::after {content: \"\";width: 100%;border-bottom: 1px solid gray;flex-grow: 1;}#sk-container-id-6 div.sk-label:hover label.sk-toggleable__label {background-color: #d4ebff;}#sk-container-id-6 div.sk-serial::before {content: \"\";position: absolute;border-left: 1px solid gray;box-sizing: border-box;top: 0;bottom: 0;left: 50%;z-index: 0;}#sk-container-id-6 div.sk-serial {display: flex;flex-direction: column;align-items: center;background-color: white;padding-right: 0.2em;padding-left: 0.2em;position: relative;}#sk-container-id-6 div.sk-item {position: relative;z-index: 1;}#sk-container-id-6 div.sk-parallel {display: flex;align-items: stretch;justify-content: center;background-color: white;position: relative;}#sk-container-id-6 div.sk-item::before, #sk-container-id-6 div.sk-parallel-item::before {content: \"\";position: absolute;border-left: 1px solid gray;box-sizing: border-box;top: 0;bottom: 0;left: 50%;z-index: -1;}#sk-container-id-6 div.sk-parallel-item {display: flex;flex-direction: column;z-index: 1;position: relative;background-color: white;}#sk-container-id-6 div.sk-parallel-item:first-child::after {align-self: flex-end;width: 50%;}#sk-container-id-6 div.sk-parallel-item:last-child::after {align-self: flex-start;width: 50%;}#sk-container-id-6 div.sk-parallel-item:only-child::after {width: 0;}#sk-container-id-6 div.sk-dashed-wrapped {border: 1px dashed gray;margin: 0 0.4em 0.5em 0.4em;box-sizing: border-box;padding-bottom: 0.4em;background-color: white;}#sk-container-id-6 div.sk-label label {font-family: monospace;font-weight: bold;display: inline-block;line-height: 1.2em;}#sk-container-id-6 div.sk-label-container {text-align: center;}#sk-container-id-6 div.sk-container {/* jupyter's `normalize.less` sets `[hidden] { display: none; }` but bootstrap.min.css set `[hidden] { display: none !important; }` so we also need the `!important` here to be able to override the default hidden behavior on the sphinx rendered scikit-learn.org. See: https://github.com/scikit-learn/scikit-learn/issues/21755 */display: inline-block !important;position: relative;}#sk-container-id-6 div.sk-text-repr-fallback {display: none;}</style><div id=\"sk-container-id-6\" class=\"sk-top-container\"><div class=\"sk-text-repr-fallback\"><pre>CustomThresholdLogisticRegression(threshold=0.65)</pre><b>In a Jupyter environment, please rerun this cell to show the HTML representation or trust the notebook. <br />On GitHub, the HTML representation is unable to render, please try loading this page with nbviewer.org.</b></div><div class=\"sk-container\" hidden><div class=\"sk-item\"><div class=\"sk-estimator sk-toggleable\"><input class=\"sk-toggleable__control sk-hidden--visually\" id=\"sk-estimator-id-6\" type=\"checkbox\" checked><label for=\"sk-estimator-id-6\" class=\"sk-toggleable__label sk-toggleable__label-arrow\">CustomThresholdLogisticRegression</label><div class=\"sk-toggleable__content\"><pre>CustomThresholdLogisticRegression(threshold=0.65)</pre></div></div></div></div></div>"
      ],
      "text/plain": [
       "CustomThresholdLogisticRegression(threshold=0.65)"
      ]
     },
     "execution_count": 71,
     "metadata": {},
     "output_type": "execute_result"
    }
   ],
   "source": [
    "x=df.drop(\"Loan_Status\",axis=1)\n",
    "y=df[\"Loan_Status\"]\n",
    "\n",
    "# Split the data into training and testing sets\n",
    "x_train, x_test, y_train, y_test = train_test_split(x, y, test_size=0.2, random_state=42)\n",
    "\n",
    "# Create and train a logistic regression model with a custom threshold\n",
    "model = CustomThresholdLogisticRegression(threshold=0.65)\n",
    "model.fit(x_train, y_train)"
   ]
  },
  {
   "cell_type": "code",
   "execution_count": 72,
   "id": "adfc6b2a",
   "metadata": {},
   "outputs": [
    {
     "name": "stdout",
     "output_type": "stream",
     "text": [
      "0.7967479674796748\n",
      "[[22 21]\n",
      " [ 4 76]]\n"
     ]
    }
   ],
   "source": [
    "# Testing Evaluation\n",
    "y_pred = model.predict(x_test)\n",
    "Accuracy = accuracy_score(y_test,y_pred)\n",
    "print(Accuracy)\n",
    "cnf_m=confusion_matrix(y_test,y_pred)\n",
    "print(cnf_m)"
   ]
  },
  {
   "cell_type": "code",
   "execution_count": 73,
   "id": "6ac7c50a",
   "metadata": {},
   "outputs": [
    {
     "name": "stdout",
     "output_type": "stream",
     "text": [
      "0.780040733197556\n",
      "[[ 83  66]\n",
      " [ 42 300]]\n"
     ]
    }
   ],
   "source": [
    "# Training Evaluation\n",
    "y_pred_train = model.predict(x_train)\n",
    "Accuracy = accuracy_score(y_train,y_pred_train)\n",
    "print(Accuracy)\n",
    "cnf_m=confusion_matrix(y_train,y_pred_train)\n",
    "print(cnf_m)"
   ]
  },
  {
   "cell_type": "code",
   "execution_count": 74,
   "id": "7882c23c",
   "metadata": {},
   "outputs": [],
   "source": [
    "with open(\"final_model\",\"wb\") as f:\n",
    "    pickle.dump(Model,f)"
   ]
  },
  {
   "cell_type": "code",
   "execution_count": null,
   "id": "4313508d",
   "metadata": {},
   "outputs": [],
   "source": []
  }
 ],
 "metadata": {
  "kernelspec": {
   "display_name": "Python 3 (ipykernel)",
   "language": "python",
   "name": "python3"
  },
  "language_info": {
   "codemirror_mode": {
    "name": "ipython",
    "version": 3
   },
   "file_extension": ".py",
   "mimetype": "text/x-python",
   "name": "python",
   "nbconvert_exporter": "python",
   "pygments_lexer": "ipython3",
   "version": "3.9.12"
  }
 },
 "nbformat": 4,
 "nbformat_minor": 5
}
